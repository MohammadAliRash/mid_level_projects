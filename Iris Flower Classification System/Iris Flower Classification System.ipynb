{
 "cells": [
  {
   "cell_type": "code",
   "execution_count": 1,
   "id": "546f61b3",
   "metadata": {},
   "outputs": [],
   "source": [
    "import numpy as np\n",
    "import pandas as pd\n",
    "import matplotlib.pyplot as plt\n",
    "\n",
    "from sklearn.datasets import load_iris\n",
    "\n",
    "import optuna\n",
    "from optuna.samplers import TPESampler\n",
    "\n",
    "from sklearn.pipeline import Pipeline\n",
    "from sklearn.preprocessing import StandardScaler\n",
    "from sklearn.impute import SimpleImputer\n",
    "from sklearn.svm import SVC\n",
    "from sklearn.ensemble import RandomForestClassifier\n",
    "from sklearn.model_selection import train_test_split, cross_val_score\n",
    "from sklearn.metrics import f1_score, accuracy_score, precision_score, confusion_matrix, ConfusionMatrixDisplay\n",
    "\n",
    "from pathlib import Path\n",
    "from flask import Flask, request, jsonify, render_template\n",
    "import joblib\n",
    "from datetime import datetime\n",
    "import os"
   ]
  },
  {
   "cell_type": "code",
   "execution_count": 2,
   "id": "0010a722",
   "metadata": {},
   "outputs": [],
   "source": [
    "# Load data\n",
    "iris = load_iris()\n",
    "x = pd.DataFrame(iris.data, columns=iris.feature_names)\n",
    "y = iris.target"
   ]
  },
  {
   "cell_type": "code",
   "execution_count": 3,
   "id": "9042806a",
   "metadata": {},
   "outputs": [],
   "source": [
    "# Train-test split with stratification\n",
    "x_train, x_test, y_train, y_test = train_test_split(x, y, train_size=0.8, stratify=y, random_state=42)"
   ]
  },
  {
   "cell_type": "code",
   "execution_count": 4,
   "id": "411f28e1",
   "metadata": {},
   "outputs": [],
   "source": [
    "def objective(trial):\n",
    "    # Suggest which model to use\n",
    "    model_type = trial.suggest_categorical('model_type', ['svc', 'random_forest'])\n",
    "    \n",
    "    if model_type == 'svc':\n",
    "        params = {\n",
    "            'svc_model__C': trial.suggest_float('svc_C', 1e-3, 1e3, log=True),\n",
    "            'svc_model__kernel': trial.suggest_categorical('svc_kernel', ['linear', 'poly', 'rbf']),\n",
    "            'svc_model__gamma': trial.suggest_float('svc_gamma', 1e-3, 1e1, log=True)\n",
    "        }\n",
    "        model = Pipeline(steps=[\n",
    "            ('imputer', SimpleImputer(strategy='mean')),\n",
    "            ('scaler', StandardScaler()),\n",
    "            ('svc_model', SVC(probability=True))\n",
    "        ]).set_params(**params)\n",
    "    else :\n",
    "        params = {\n",
    "            'forest_model__n_estimators': trial.suggest_int('rf_n_estimators', 50, 300),\n",
    "            'forest_model__max_depth': trial.suggest_int('rf_max_depth', 3, 20),\n",
    "            'forest_model__min_samples_split': trial.suggest_int('rf_min_samples_split', 2, 10),\n",
    "            'forest_model__max_features': trial.suggest_categorical('rf_max_features', ['sqrt', 'log2'])\n",
    "        }\n",
    "        model = Pipeline(steps=[\n",
    "            ('imputer', SimpleImputer(strategy='mean')),\n",
    "            ('scaler', StandardScaler()),\n",
    "            ('forest_model', RandomForestClassifier(random_state=42))\n",
    "        ]).set_params(**params)\n",
    "    \n",
    "    score = cross_val_score(model, x_train, y_train, cv=5, scoring='accuracy')\n",
    "    return score.mean()\n"
   ]
  },
  {
   "cell_type": "code",
   "execution_count": 5,
   "id": "d14c4339",
   "metadata": {},
   "outputs": [
    {
     "name": "stderr",
     "output_type": "stream",
     "text": [
      "[I 2025-05-20 23:26:42,423] A new study created in memory with name: no-name-c9283d41-6b71-4c72-8385-96b9cb8a8b7f\n"
     ]
    }
   ],
   "source": [
    "# Create Optuna study\n",
    "study = optuna.create_study(\n",
    "    direction='maximize',\n",
    "    sampler=TPESampler(seed=42),\n",
    "    pruner=optuna.pruners.MedianPruner(n_warmup_steps=5)\n",
    ")"
   ]
  },
  {
   "cell_type": "code",
   "execution_count": 6,
   "id": "801a3b96",
   "metadata": {},
   "outputs": [
    {
     "name": "stderr",
     "output_type": "stream",
     "text": [
      "[I 2025-05-20 23:26:43,192] Trial 0 finished with value: 0.95 and parameters: {'model_type': 'random_forest', 'rf_n_estimators': 233, 'rf_max_depth': 13, 'rf_min_samples_split': 3, 'rf_max_features': 'sqrt'}. Best is trial 0 with value: 0.95.\n",
      "[I 2025-05-20 23:26:43,215] Trial 1 finished with value: 0.5583333333333333 and parameters: {'model_type': 'svc', 'svc_C': 17.71884735480682, 'svc_kernel': 'poly', 'svc_gamma': 0.0070689749506246055}. Best is trial 0 with value: 0.95.\n",
      "[I 2025-05-20 23:26:43,632] Trial 2 finished with value: 0.95 and parameters: {'model_type': 'random_forest', 'rf_n_estimators': 126, 'rf_max_depth': 12, 'rf_min_samples_split': 5, 'rf_max_features': 'log2'}. Best is trial 0 with value: 0.95.\n",
      "[I 2025-05-20 23:26:44,094] Trial 3 finished with value: 0.9583333333333334 and parameters: {'model_type': 'random_forest', 'rf_n_estimators': 141, 'rf_max_depth': 11, 'rf_min_samples_split': 9, 'rf_max_features': 'log2'}. Best is trial 3 with value: 0.9583333333333334.\n",
      "[I 2025-05-20 23:26:44,121] Trial 4 finished with value: 0.9083333333333332 and parameters: {'model_type': 'svc', 'svc_C': 4.418441521199722, 'svc_kernel': 'rbf', 'svc_gamma': 7.2866537374910445}. Best is trial 3 with value: 0.9583333333333334.\n",
      "[I 2025-05-20 23:26:44,146] Trial 5 finished with value: 0.8666666666666668 and parameters: {'model_type': 'svc', 'svc_C': 0.00385507369002618, 'svc_kernel': 'linear', 'svc_gamma': 0.09565499215943825}. Best is trial 3 with value: 0.9583333333333334.\n",
      "[I 2025-05-20 23:26:44,530] Trial 6 finished with value: 0.95 and parameters: {'model_type': 'random_forest', 'rf_n_estimators': 114, 'rf_max_depth': 14, 'rf_min_samples_split': 4, 'rf_max_features': 'log2'}. Best is trial 3 with value: 0.9583333333333334.\n",
      "[I 2025-05-20 23:26:45,313] Trial 7 finished with value: 0.95 and parameters: {'model_type': 'random_forest', 'rf_n_estimators': 244, 'rf_max_depth': 19, 'rf_min_samples_split': 10, 'rf_max_features': 'log2'}. Best is trial 3 with value: 0.9583333333333334.\n",
      "[I 2025-05-20 23:26:45,526] Trial 8 finished with value: 0.95 and parameters: {'model_type': 'random_forest', 'rf_n_estimators': 61, 'rf_max_depth': 8, 'rf_min_samples_split': 5, 'rf_max_features': 'log2'}. Best is trial 3 with value: 0.9583333333333334.\n",
      "[I 2025-05-20 23:26:45,548] Trial 9 finished with value: 0.9333333333333333 and parameters: {'model_type': 'svc', 'svc_C': 1.8037506431281842, 'svc_kernel': 'poly', 'svc_gamma': 8.862326508576253}. Best is trial 3 with value: 0.9583333333333334.\n",
      "[I 2025-05-20 23:26:46,140] Trial 10 finished with value: 0.95 and parameters: {'model_type': 'random_forest', 'rf_n_estimators': 178, 'rf_max_depth': 3, 'rf_min_samples_split': 9, 'rf_max_features': 'sqrt'}. Best is trial 3 with value: 0.9583333333333334.\n",
      "[I 2025-05-20 23:26:47,011] Trial 11 finished with value: 0.95 and parameters: {'model_type': 'random_forest', 'rf_n_estimators': 269, 'rf_max_depth': 15, 'rf_min_samples_split': 2, 'rf_max_features': 'sqrt'}. Best is trial 3 with value: 0.9583333333333334.\n",
      "[I 2025-05-20 23:26:47,672] Trial 12 finished with value: 0.95 and parameters: {'model_type': 'random_forest', 'rf_n_estimators': 204, 'rf_max_depth': 8, 'rf_min_samples_split': 8, 'rf_max_features': 'sqrt'}. Best is trial 3 with value: 0.9583333333333334.\n",
      "[I 2025-05-20 23:26:48,393] Trial 13 finished with value: 0.95 and parameters: {'model_type': 'random_forest', 'rf_n_estimators': 223, 'rf_max_depth': 9, 'rf_min_samples_split': 7, 'rf_max_features': 'sqrt'}. Best is trial 3 with value: 0.9583333333333334.\n",
      "[I 2025-05-20 23:26:49,373] Trial 14 finished with value: 0.95 and parameters: {'model_type': 'random_forest', 'rf_n_estimators': 300, 'rf_max_depth': 17, 'rf_min_samples_split': 2, 'rf_max_features': 'log2'}. Best is trial 3 with value: 0.9583333333333334.\n",
      "[I 2025-05-20 23:26:49,845] Trial 15 finished with value: 0.95 and parameters: {'model_type': 'random_forest', 'rf_n_estimators': 140, 'rf_max_depth': 11, 'rf_min_samples_split': 7, 'rf_max_features': 'sqrt'}. Best is trial 3 with value: 0.9583333333333334.\n",
      "[I 2025-05-20 23:26:50,411] Trial 16 finished with value: 0.95 and parameters: {'model_type': 'random_forest', 'rf_n_estimators': 173, 'rf_max_depth': 3, 'rf_min_samples_split': 4, 'rf_max_features': 'log2'}. Best is trial 3 with value: 0.9583333333333334.\n",
      "[I 2025-05-20 23:26:50,686] Trial 17 finished with value: 0.9583333333333334 and parameters: {'model_type': 'random_forest', 'rf_n_estimators': 79, 'rf_max_depth': 12, 'rf_min_samples_split': 10, 'rf_max_features': 'sqrt'}. Best is trial 3 with value: 0.9583333333333334.\n",
      "[I 2025-05-20 23:26:50,712] Trial 18 finished with value: 0.9666666666666668 and parameters: {'model_type': 'svc', 'svc_C': 524.8776618233561, 'svc_kernel': 'rbf', 'svc_gamma': 0.003908443370991222}. Best is trial 18 with value: 0.9666666666666668.\n",
      "[I 2025-05-20 23:26:50,739] Trial 19 finished with value: 0.975 and parameters: {'model_type': 'svc', 'svc_C': 825.8687310240758, 'svc_kernel': 'rbf', 'svc_gamma': 0.0010324741282667113}. Best is trial 19 with value: 0.975.\n",
      "[I 2025-05-20 23:26:50,765] Trial 20 finished with value: 0.9666666666666668 and parameters: {'model_type': 'svc', 'svc_C': 685.9378064243962, 'svc_kernel': 'rbf', 'svc_gamma': 0.0014410075844876135}. Best is trial 19 with value: 0.975.\n",
      "[I 2025-05-20 23:26:50,792] Trial 21 finished with value: 0.975 and parameters: {'model_type': 'svc', 'svc_C': 771.9973023981637, 'svc_kernel': 'rbf', 'svc_gamma': 0.0010887190401769142}. Best is trial 19 with value: 0.975.\n",
      "[I 2025-05-20 23:26:50,818] Trial 22 finished with value: 0.9666666666666668 and parameters: {'model_type': 'svc', 'svc_C': 932.186659885732, 'svc_kernel': 'rbf', 'svc_gamma': 0.0010879725467779879}. Best is trial 19 with value: 0.975.\n",
      "[I 2025-05-20 23:26:50,844] Trial 23 finished with value: 0.9666666666666668 and parameters: {'model_type': 'svc', 'svc_C': 184.1828307961851, 'svc_kernel': 'rbf', 'svc_gamma': 0.008707740811451009}. Best is trial 19 with value: 0.975.\n",
      "[I 2025-05-20 23:26:50,871] Trial 24 finished with value: 0.975 and parameters: {'model_type': 'svc', 'svc_C': 50.45331931218081, 'svc_kernel': 'rbf', 'svc_gamma': 0.0010443653848868607}. Best is trial 19 with value: 0.975.\n",
      "[I 2025-05-20 23:26:50,898] Trial 25 finished with value: 0.975 and parameters: {'model_type': 'svc', 'svc_C': 55.217403139381, 'svc_kernel': 'rbf', 'svc_gamma': 0.0011337272860847379}. Best is trial 19 with value: 0.975.\n",
      "[I 2025-05-20 23:26:50,927] Trial 26 finished with value: 0.8666666666666668 and parameters: {'model_type': 'svc', 'svc_C': 0.09878579871301921, 'svc_kernel': 'rbf', 'svc_gamma': 0.026718734153364773}. Best is trial 19 with value: 0.975.\n",
      "[I 2025-05-20 23:26:50,954] Trial 27 finished with value: 0.9583333333333334 and parameters: {'model_type': 'svc', 'svc_C': 58.58619140980451, 'svc_kernel': 'linear', 'svc_gamma': 1.5604369909753515}. Best is trial 19 with value: 0.975.\n",
      "[I 2025-05-20 23:26:50,979] Trial 28 finished with value: 0.975 and parameters: {'model_type': 'svc', 'svc_C': 97.42742970622672, 'svc_kernel': 'rbf', 'svc_gamma': 0.0038180913984633452}. Best is trial 19 with value: 0.975.\n",
      "[I 2025-05-20 23:26:51,005] Trial 29 finished with value: 0.975 and parameters: {'model_type': 'svc', 'svc_C': 15.026296231875374, 'svc_kernel': 'rbf', 'svc_gamma': 0.02483050638336188}. Best is trial 19 with value: 0.975.\n",
      "[I 2025-05-20 23:26:51,035] Trial 30 finished with value: 0.8666666666666668 and parameters: {'model_type': 'svc', 'svc_C': 0.132965227605875, 'svc_kernel': 'rbf', 'svc_gamma': 0.002731690613454503}. Best is trial 19 with value: 0.975.\n",
      "[I 2025-05-20 23:26:51,062] Trial 31 finished with value: 0.9583333333333334 and parameters: {'model_type': 'svc', 'svc_C': 102.23586671910455, 'svc_kernel': 'rbf', 'svc_gamma': 0.00129235407980411}. Best is trial 19 with value: 0.975.\n",
      "[I 2025-05-20 23:26:51,089] Trial 32 finished with value: 0.9416666666666668 and parameters: {'model_type': 'svc', 'svc_C': 18.554401545159955, 'svc_kernel': 'rbf', 'svc_gamma': 0.0010032959233437317}. Best is trial 19 with value: 0.975.\n",
      "[I 2025-05-20 23:26:51,115] Trial 33 finished with value: 0.975 and parameters: {'model_type': 'svc', 'svc_C': 272.5330415269692, 'svc_kernel': 'rbf', 'svc_gamma': 0.003132267337289926}. Best is trial 19 with value: 0.975.\n",
      "[I 2025-05-20 23:26:51,142] Trial 34 finished with value: 0.825 and parameters: {'model_type': 'svc', 'svc_C': 918.5882392363667, 'svc_kernel': 'poly', 'svc_gamma': 0.011468972920356231}. Best is trial 19 with value: 0.975.\n",
      "[I 2025-05-20 23:26:51,169] Trial 35 finished with value: 0.975 and parameters: {'model_type': 'svc', 'svc_C': 24.856245824000393, 'svc_kernel': 'rbf', 'svc_gamma': 0.0023276355045590653}. Best is trial 19 with value: 0.975.\n",
      "[I 2025-05-20 23:26:51,197] Trial 36 finished with value: 0.9583333333333334 and parameters: {'model_type': 'svc', 'svc_C': 156.6957195619069, 'svc_kernel': 'linear', 'svc_gamma': 0.30560581576859963}. Best is trial 19 with value: 0.975.\n",
      "[I 2025-05-20 23:26:51,225] Trial 37 finished with value: 0.8916666666666666 and parameters: {'model_type': 'svc', 'svc_C': 3.846465966828844, 'svc_kernel': 'rbf', 'svc_gamma': 0.0022110612927974953}. Best is trial 19 with value: 0.975.\n",
      "[I 2025-05-20 23:26:51,255] Trial 38 finished with value: 0.8666666666666668 and parameters: {'model_type': 'svc', 'svc_C': 0.28998926437376193, 'svc_kernel': 'rbf', 'svc_gamma': 0.0010397943194815826}. Best is trial 19 with value: 0.975.\n",
      "[I 2025-05-20 23:26:51,283] Trial 39 finished with value: 0.9666666666666668 and parameters: {'model_type': 'svc', 'svc_C': 43.61692627354788, 'svc_kernel': 'rbf', 'svc_gamma': 0.006087710026612686}. Best is trial 19 with value: 0.975.\n",
      "[I 2025-05-20 23:26:51,310] Trial 40 finished with value: 0.9583333333333334 and parameters: {'model_type': 'svc', 'svc_C': 280.9685626555081, 'svc_kernel': 'linear', 'svc_gamma': 0.01765635673329129}. Best is trial 19 with value: 0.975.\n",
      "[I 2025-05-20 23:26:51,335] Trial 41 finished with value: 0.975 and parameters: {'model_type': 'svc', 'svc_C': 101.87723540456237, 'svc_kernel': 'rbf', 'svc_gamma': 0.003811387526026927}. Best is trial 19 with value: 0.975.\n",
      "[I 2025-05-20 23:26:51,362] Trial 42 finished with value: 0.975 and parameters: {'model_type': 'svc', 'svc_C': 306.80045652342966, 'svc_kernel': 'rbf', 'svc_gamma': 0.00199251908788611}. Best is trial 19 with value: 0.975.\n",
      "[I 2025-05-20 23:26:51,391] Trial 43 finished with value: 0.9666666666666668 and parameters: {'model_type': 'svc', 'svc_C': 62.46398234760935, 'svc_kernel': 'rbf', 'svc_gamma': 0.004203720375156705}. Best is trial 19 with value: 0.975.\n",
      "[I 2025-05-20 23:26:51,418] Trial 44 finished with value: 0.975 and parameters: {'model_type': 'svc', 'svc_C': 331.5090846915311, 'svc_kernel': 'rbf', 'svc_gamma': 0.0018623786816923415}. Best is trial 19 with value: 0.975.\n",
      "[I 2025-05-20 23:26:51,446] Trial 45 finished with value: 0.5583333333333333 and parameters: {'model_type': 'svc', 'svc_C': 8.051426404187083, 'svc_kernel': 'poly', 'svc_gamma': 0.006541052986513809}. Best is trial 19 with value: 0.975.\n",
      "[I 2025-05-20 23:26:51,475] Trial 46 finished with value: 0.9583333333333334 and parameters: {'model_type': 'svc', 'svc_C': 34.439867184123976, 'svc_kernel': 'rbf', 'svc_gamma': 0.06243419090349717}. Best is trial 19 with value: 0.975.\n",
      "[I 2025-05-20 23:26:51,501] Trial 47 finished with value: 0.9333333333333333 and parameters: {'model_type': 'svc', 'svc_C': 91.77619677403801, 'svc_kernel': 'poly', 'svc_gamma': 0.4500188007572952}. Best is trial 19 with value: 0.975.\n",
      "[I 2025-05-20 23:26:51,533] Trial 48 finished with value: 0.8666666666666668 and parameters: {'model_type': 'svc', 'svc_C': 0.006472872112808399, 'svc_kernel': 'rbf', 'svc_gamma': 0.0017680299405192271}. Best is trial 19 with value: 0.975.\n",
      "[I 2025-05-20 23:26:51,560] Trial 49 finished with value: 0.975 and parameters: {'model_type': 'svc', 'svc_C': 8.783417656143492, 'svc_kernel': 'rbf', 'svc_gamma': 0.0051292786142209225}. Best is trial 19 with value: 0.975.\n"
     ]
    }
   ],
   "source": [
    "# Optimize with silent mode to reduce output\n",
    "study.optimize(objective, n_trials=50, show_progress_bar=False)"
   ]
  },
  {
   "cell_type": "code",
   "execution_count": 7,
   "id": "8ac1b637",
   "metadata": {},
   "outputs": [
    {
     "name": "stdout",
     "output_type": "stream",
     "text": [
      "\n",
      "Best trial:\n",
      "  Value (accuracy): 0.9750\n",
      "  Params: \n",
      "    model_type: svc\n",
      "    svc_C: 825.8687310240758\n",
      "    svc_kernel: rbf\n",
      "    svc_gamma: 0.0010324741282667113\n"
     ]
    }
   ],
   "source": [
    "# Best parameters\n",
    "print(f\"\\nBest trial:\")\n",
    "trial = study.best_trial\n",
    "print(f\"  Value (accuracy): {trial.value:.4f}\")\n",
    "print(\"  Params: \")\n",
    "for key, value in trial.params.items():\n",
    "    print(f\"    {key}: {value}\")"
   ]
  },
  {
   "cell_type": "code",
   "execution_count": 8,
   "id": "84ff5c45",
   "metadata": {},
   "outputs": [],
   "source": [
    "# Train final model with best parameters\n",
    "if trial.params['model_type'] == 'svc':\n",
    "    best_model = Pipeline(steps=[\n",
    "        ('imputer', SimpleImputer(strategy='mean')),\n",
    "        ('scaler', StandardScaler()),\n",
    "        ('svc_model', SVC(probability=True))\n",
    "    ]).set_params(**{f'svc_model__{k.split(\"_\")[-1]}': v \n",
    "                    for k,v in trial.params.items() if k.startswith('svc_')})\n",
    "else:\n",
    "    best_model = Pipeline(steps=[\n",
    "        ('imputer', SimpleImputer(strategy='mean')),\n",
    "        ('scaler', StandardScaler()),\n",
    "        ('forest_model', RandomForestClassifier(random_state=42))\n",
    "    ]).set_params(**{f'forest_model__{k.split(\"_\")[-1]}': v \n",
    "                   for k,v in trial.params.items() if k.startswith('rf_')})\n",
    "\n",
    "best_model.fit(x_train, y_train)\n",
    "y_pred = best_model.predict(x_test)\n",
    "y_proba = best_model.predict_proba(x_test)"
   ]
  },
  {
   "cell_type": "code",
   "execution_count": 9,
   "id": "7e2d4e14",
   "metadata": {},
   "outputs": [
    {
     "name": "stdout",
     "output_type": "stream",
     "text": [
      "\n",
      "Final Model Performance:\n",
      "Accuracy: 0.9667\n",
      "F1 Score: 0.9666\n",
      "Precision: 0.9697\n"
     ]
    }
   ],
   "source": [
    "# Evaluation metrics\n",
    "final_metrics = {\n",
    "    'Accuracy': accuracy_score(y_test, y_pred),\n",
    "    'F1 Score': f1_score(y_test, y_pred, average='weighted'),\n",
    "    'Precision': precision_score(y_test, y_pred, average='weighted')\n",
    "}\n",
    "\n",
    "print(\"\\nFinal Model Performance:\")\n",
    "for metric, value in final_metrics.items():\n",
    "    print(f\"{metric}: {value:.4f}\")"
   ]
  },
  {
   "cell_type": "code",
   "execution_count": 10,
   "id": "8a83273f",
   "metadata": {},
   "outputs": [
    {
     "name": "stdout",
     "output_type": "stream",
     "text": [
      "\n",
      "Saved best model to: saved_models\\best_iris_model.joblib\n"
     ]
    }
   ],
   "source": [
    "# 1. Save the best model\n",
    "\n",
    "model_dir = Path(\"saved_models\")\n",
    "model_dir.mkdir(exist_ok=True)\n",
    "model_path = model_dir / \"best_iris_model.joblib\"\n",
    "joblib.dump(best_model, model_path)\n",
    "print(f\"\\nSaved best model to: {model_path}\")"
   ]
  },
  {
   "cell_type": "code",
   "execution_count": 11,
   "id": "d9214643",
   "metadata": {},
   "outputs": [
    {
     "data": {
      "image/png": "[encoded data removed]",
      "text/plain": [
       "<Figure size 640x480 with 2 Axes>"
      ]
     },
     "metadata": {},
     "output_type": "display_data"
    }
   ],
   "source": [
    "# Confusion Matrix\n",
    "cm = confusion_matrix(y_test, y_pred)\n",
    "disp = ConfusionMatrixDisplay(confusion_matrix=cm, display_labels=iris.target_names)\n",
    "disp.plot(cmap='Blues')\n",
    "plt.title('Confusion Matrix')\n",
    "plt.show()"
   ]
  },
  {
   "cell_type": "code",
   "execution_count": 12,
   "id": "d70dc683",
   "metadata": {},
   "outputs": [],
   "source": [
    "# Feature Importance (if Random Forest)\n",
    "if trial.params['model_type'] == 'random_forest':\n",
    "    importances = best_model.named_steps['forest_model'].feature_importances_\n",
    "    plt.figure(figsize=(10, 5))\n",
    "    plt.barh(iris.feature_names, importances)\n",
    "    plt.title('Feature Importance')\n",
    "    plt.show()"
   ]
  },
  {
   "cell_type": "code",
   "execution_count": null,
   "id": "e122d752",
   "metadata": {},
   "outputs": [],
   "source": []
  },
  {
   "cell_type": "code",
   "execution_count": null,
   "id": "af80b1dd",
   "metadata": {},
   "outputs": [],
   "source": []
  },
  {
   "cell_type": "code",
   "execution_count": null,
   "id": "4f7c8f2b",
   "metadata": {},
   "outputs": [],
   "source": []
  },
  {
   "cell_type": "code",
   "execution_count": 13,
   "id": "35d9eec2",
   "metadata": {},
   "outputs": [
    {
     "name": "stdout",
     "output_type": "stream",
     "text": [
      "\n",
      "Attempting to start server on port 5000...\n",
      " * Serving Flask app '__main__'\n",
      " * Debug mode: off\n"
     ]
    },
    {
     "name": "stderr",
     "output_type": "stream",
     "text": [
      "WARNING: This is a development server. Do not use it in a production deployment. Use a production WSGI server instead.\n",
      " * Running on http://127.0.0.1:5000\n",
      "Press CTRL+C to quit\n",
      "127.0.0.1 - - [20/May/2025 23:29:14] \"GET / HTTP/1.1\" 200 -\n",
      "127.0.0.1 - - [20/May/2025 23:29:30] \"POST /predict HTTP/1.1\" 200 -\n"
     ]
    }
   ],
   "source": [
    "\n",
    "# =============================================\n",
    "# Model Deployment with Flask\n",
    "# =============================================\n",
    "\n",
    "# Save the trained model\n",
    "def save_model(model, metrics, feature_names, target_names):\n",
    "    model_info = {\n",
    "        'model': model,\n",
    "        'timestamp': datetime.now().strftime(\"%Y-%m-%d %H:%M:%S\"),\n",
    "        'metrics': metrics,\n",
    "        'features': list(feature_names),  # Convert to list if not already\n",
    "        'classes': list(target_names)     # Convert to list if not already\n",
    "    }\n",
    "    os.makedirs('model', exist_ok=True)\n",
    "    model_path = os.path.join('model', 'iris_model.joblib')\n",
    "    joblib.dump(model_info, model_path)\n",
    "    return model_path\n",
    "\n",
    "# Call it like this:\n",
    "model_path = save_model(best_model, final_metrics, iris.feature_names, iris.target_names)\n",
    "\n",
    "# Create Flask app\n",
    "app = Flask(__name__)\n",
    "\n",
    "# Load model function\n",
    "def load_model():\n",
    "    return joblib.load(model_path)\n",
    "\n",
    "# API endpoint for predictions\n",
    "@app.route('/predict', methods=['POST'])\n",
    "def predict_api():\n",
    "    try:\n",
    "        model_info = load_model()\n",
    "        model = model_info['model']\n",
    "        \n",
    "        # Get data from JSON request\n",
    "        data = request.get_json()\n",
    "        features = [float(data[feature]) for feature in model_info['features']]\n",
    "        input_data = pd.DataFrame([features], columns=model_info['features'])\n",
    "        \n",
    "        # Make prediction\n",
    "        prediction = model.predict(input_data)[0]\n",
    "        probabilities = model.predict_proba(input_data)[0]\n",
    "        \n",
    "        return jsonify({\n",
    "            'prediction': model_info['classes'][prediction],\n",
    "            'confidence': float(probabilities[prediction]),\n",
    "            'probabilities': {\n",
    "                cls: float(prob) \n",
    "                for cls, prob in zip(model_info['classes'], probabilities)\n",
    "            }\n",
    "        })\n",
    "    except Exception as e:\n",
    "        return jsonify({'error': str(e)}), 400\n",
    "\n",
    "# Web interface\n",
    "@app.route('/')\n",
    "def home():\n",
    "    model_info = load_model()\n",
    "    return render_template('index.html', \n",
    "                         features=model_info['features'],\n",
    "                         classes=model_info['classes'],\n",
    "                         metrics=model_info['metrics'])\n",
    "\n",
    "# Create HTML template directory and file\n",
    "os.makedirs('templates', exist_ok=True)\n",
    "with open('templates/index.html', 'w') as f:\n",
    "    f.write('''<!DOCTYPE html>\n",
    "<html>\n",
    "<head>\n",
    "    <title>Iris Classifier</title>\n",
    "    <link href=\"https://cdn.jsdelivr.net/npm/bootstrap@5.1.3/dist/css/bootstrap.min.css\" rel=\"stylesheet\">\n",
    "    <style>\n",
    "        .form-group { margin-bottom: 1rem; }\n",
    "        .result { margin-top: 2rem; padding: 1rem; background: #f8f9fa; }\n",
    "    </style>\n",
    "</head>\n",
    "<body>\n",
    "    <div class=\"container mt-5\">\n",
    "        <h1 class=\"mb-4\">Iris Flower Classifier</h1>\n",
    "        \n",
    "        <div class=\"row\">\n",
    "            <div class=\"col-md-6\">\n",
    "                <form id=\"predictionForm\">\n",
    "                    {% for feature in features %}\n",
    "                    <div class=\"form-group\">\n",
    "                        <label for=\"{{ feature }}\">{{ feature }}</label>\n",
    "                        <input type=\"number\" step=\"0.1\" class=\"form-control\" id=\"{{ feature }}\" \n",
    "                               name=\"{{ feature }}\" required>\n",
    "                    </div>\n",
    "                    {% endfor %}\n",
    "                    <button type=\"submit\" class=\"btn btn-primary\">Predict</button>\n",
    "                </form>\n",
    "                \n",
    "                <div id=\"result\" class=\"result\" style=\"display: none;\">\n",
    "                    <h4>Prediction Result</h4>\n",
    "                    <p><strong>Class:</strong> <span id=\"prediction\"></span></p>\n",
    "                    <p><strong>Confidence:</strong> <span id=\"confidence\"></span></p>\n",
    "                    <div id=\"probabilities\"></div>\n",
    "                </div>\n",
    "            </div>\n",
    "            \n",
    "            <div class=\"col-md-6\">\n",
    "                <h4>Model Metrics</h4>\n",
    "                <ul>\n",
    "                    {% for metric, value in metrics.items() %}\n",
    "                    <li>{{ metric }}: {{ \"%.2f\"|format(value) }}</li>\n",
    "                    {% endfor %}\n",
    "                </ul>\n",
    "                \n",
    "                <h4 class=\"mt-4\">Class Labels</h4>\n",
    "                <ol>\n",
    "                    {% for class in classes %}\n",
    "                    <li>{{ class }}</li>\n",
    "                    {% endfor %}\n",
    "                </ol>\n",
    "            </div>\n",
    "        </div>\n",
    "    </div>\n",
    "\n",
    "    <script>\n",
    "        document.getElementById('predictionForm').addEventListener('submit', async (e) => {\n",
    "            e.preventDefault();\n",
    "            \n",
    "            const formData = new FormData(e.target);\n",
    "            const data = {};\n",
    "            formData.forEach((value, key) => data[key] = parseFloat(value));\n",
    "            \n",
    "            try {\n",
    "                const response = await fetch('/predict', {\n",
    "                    method: 'POST',\n",
    "                    headers: { 'Content-Type': 'application/json' },\n",
    "                    body: JSON.stringify(data)\n",
    "                });\n",
    "                \n",
    "                const result = await response.json();\n",
    "                \n",
    "                if (response.ok) {\n",
    "                    document.getElementById('prediction').textContent = result.prediction;\n",
    "                    document.getElementById('confidence').textContent = \n",
    "                        (result.confidence * 100).toFixed(2) + '%';\n",
    "                    \n",
    "                    let probsHtml = '<p><strong>Probabilities:</strong></p><ul>';\n",
    "                    for (const [cls, prob] of Object.entries(result.probabilities)) {\n",
    "                        probsHtml += `<li>${cls}: ${(prob * 100).toFixed(2)}%</li>`;\n",
    "                    }\n",
    "                    probsHtml += '</ul>';\n",
    "                    document.getElementById('probabilities').innerHTML = probsHtml;\n",
    "                    \n",
    "                    document.getElementById('result').style.display = 'block';\n",
    "                } else {\n",
    "                    alert(`Error: ${result.error}`);\n",
    "                }\n",
    "            } catch (error) {\n",
    "                alert(`Error: ${error.message}`);\n",
    "            }\n",
    "        });\n",
    "    </script>\n",
    "</body>\n",
    "</html>''')\n",
    "\n",
    "if __name__ == '__main__':\n",
    "    try:\n",
    "        # Try default port first\n",
    "        print(\"\\nAttempting to start server on port 5000...\")\n",
    "        app.run(host='127.0.0.1', port=5000, debug=False)\n",
    "    except OSError as e:\n",
    "        if \"Address already in use\" in str(e):\n",
    "            print(\"Port 5000 in use, trying port 8080...\")\n",
    "            try:\n",
    "                app.run(host='127.0.0.1', port=8080, debug=False)\n",
    "            except Exception as e:\n",
    "                print(f\"Failed to start server: {e}\")\n",
    "        else:\n",
    "            print(f\"Unexpected error: {e}\")\n",
    "    except Exception as e:\n",
    "        print(f\"Server failed to start: {e}\")"
   ]
  },
  {
   "cell_type": "code",
   "execution_count": null,
   "id": "492e9641",
   "metadata": {},
   "outputs": [],
   "source": []
  }
 ],
 "metadata": {
  "kernelspec": {
   "display_name": "Python 3",
   "language": "python",
   "name": "python3"
  },
  "language_info": {
   "codemirror_mode": {
    "name": "ipython",
    "version": 3
   },
   "file_extension": ".py",
   "mimetype": "text/x-python",
   "name": "python",
   "nbconvert_exporter": "python",
   "pygments_lexer": "ipython3",
   "version": "3.13.3"
  }
 },
 "nbformat": 4,
 "nbformat_minor": 5
}
