{
 "cells": [
  {
   "cell_type": "code",
   "execution_count": 1,
   "id": "6681451d",
   "metadata": {},
   "outputs": [],
   "source": [
    "import pandas as pd \n",
    "import numpy as np \n",
    "import matplotlib.pyplot as plt \n",
    "\n",
    "from sklearn.datasets import fetch_openml\n",
    "from sklearn.model_selection import train_test_split\n",
    "from sklearn.ensemble import RandomForestClassifier\n",
    "from sklearn.metrics import accuracy_score\n",
    "\n",
    "import torch\n",
    "import torch.nn as nn \n",
    "from torch.utils.data import DataLoader, TensorDataset\n",
    "import torch.optim as optim\n",
    "\n",
    "import optuna\n"
   ]
  },
  {
   "cell_type": "code",
   "execution_count": 2,
   "id": "8f29d6a9",
   "metadata": {},
   "outputs": [
    {
     "data": {
      "text/plain": [
       "True"
      ]
     },
     "execution_count": 2,
     "metadata": {},
     "output_type": "execute_result"
    }
   ],
   "source": [
    "torch.cuda.is_available()"
   ]
  },
  {
   "cell_type": "code",
   "execution_count": 3,
   "id": "51ad97e7",
   "metadata": {},
   "outputs": [
    {
     "name": "stdout",
     "output_type": "stream",
     "text": [
      "Using device: cuda\n"
     ]
    }
   ],
   "source": [
    "# Check if GPU is available and set device\n",
    "device = torch.device('cuda' if torch.cuda.is_available() else 'cpu')\n",
    "print(f\"Using device: {device}\")"
   ]
  },
  {
   "cell_type": "markdown",
   "id": "0dc53c28",
   "metadata": {},
   "source": [
    "1 loading the data from fetch_openml"
   ]
  },
  {
   "cell_type": "code",
   "execution_count": 4,
   "id": "aaa4b860",
   "metadata": {},
   "outputs": [],
   "source": [
    "# loading the data\n",
    "def load_mnist():\n",
    "    #MNIST contains 70,000 handwritten digit images (0-9)\n",
    "    #Each image is 28x28 pixels (flattened to 784 features)\n",
    "    mnist = fetch_openml('mnist_784', version=1, as_frame=False)\n",
    "    X, y =mnist.data, mnist.target.astype(np.uint8) # Convert labels to integers\n",
    "    return X , y\n",
    "\n",
    "X, y = load_mnist()"
   ]
  },
  {
   "cell_type": "markdown",
   "id": "8f5bd331",
   "metadata": {},
   "source": [
    "2 preprocessing"
   ]
  },
  {
   "cell_type": "code",
   "execution_count": 5,
   "id": "a82c5793",
   "metadata": {},
   "outputs": [],
   "source": [
    "# Normalize pixel values (0-255) to 0-1 range\n",
    "X = X / 255.0"
   ]
  },
  {
   "cell_type": "markdown",
   "id": "476c8680",
   "metadata": {},
   "source": [
    "train_validation_test"
   ]
  },
  {
   "cell_type": "code",
   "execution_count": 6,
   "id": "9a018ac1",
   "metadata": {},
   "outputs": [],
   "source": [
    "x_train, x_temp, y_train, y_temp = train_test_split(X, y, train_size=0.8, stratify=y, random_state=42)\n",
    "x_val, x_test, y_val, y_test = train_test_split(x_temp, y_temp, test_size=0.5, stratify=y_temp, random_state=42)"
   ]
  },
  {
   "cell_type": "markdown",
   "id": "266c3809",
   "metadata": {},
   "source": [
    "3 Simple Classifier with SKLearn. \n",
    "Try a simple Random Forest classifier\n",
    "to establish a baseline accuracy."
   ]
  },
  {
   "cell_type": "code",
   "execution_count": 7,
   "id": "d8e75d86",
   "metadata": {},
   "outputs": [],
   "source": [
    "# Create a random forest model as baseline\n",
    "rf_model = RandomForestClassifier(n_estimators=100)\n",
    "# train model on train set\n",
    "rf_model.fit(x_train, y_train)\n",
    "# evaluate model on validation set\n",
    "y_validation_pred = rf_model.predict(x_val)\n",
    "rf_accuracy = accuracy_score(y_val,y_validation_pred)"
   ]
  },
  {
   "cell_type": "code",
   "execution_count": 8,
   "id": "127a7fbb",
   "metadata": {},
   "outputs": [
    {
     "name": "stdout",
     "output_type": "stream",
     "text": [
      "rf_accuracy:0.963\n"
     ]
    }
   ],
   "source": [
    "print(f\"rf_accuracy:{rf_accuracy:.4}\")"
   ]
  },
  {
   "cell_type": "markdown",
   "id": "c191fbb7",
   "metadata": {},
   "source": [
    "so far, by just using a simple and random model of Random Forest, a baseline accuracy is achieved with which the accuracy of NN model can be compared "
   ]
  },
  {
   "cell_type": "markdown",
   "id": "0d6b37e9",
   "metadata": {},
   "source": [
    "4 PyTorch setup"
   ]
  },
  {
   "cell_type": "code",
   "execution_count": 9,
   "id": "ec141651",
   "metadata": {},
   "outputs": [],
   "source": [
    "# convert data to tensor\n",
    "x_train_tensor = torch.tensor(x_train, dtype=torch.float32).to(device)\n",
    "x_val_tensor = torch.tensor(x_val, dtype=torch.float32).to(device)\n",
    "x_test_tensor = torch.tensor(x_test, dtype=torch.float32).to(device)\n",
    "\n",
    "y_train_tensor = torch.tensor(y_train, dtype=torch.long).to(device)\n",
    "y_val_tensor = torch.tensor(y_val, dtype=torch.long).to(device)\n",
    "y_test_tensor = torch.tensor(y_test, dtype=torch.long).to(device)"
   ]
  },
  {
   "cell_type": "code",
   "execution_count": 10,
   "id": "731ed25a",
   "metadata": {},
   "outputs": [],
   "source": [
    "# create dataset \n",
    "train_dataset = TensorDataset(x_train_tensor,y_train_tensor)\n",
    "val_dataset = TensorDataset(x_val_tensor,y_val_tensor)\n",
    "test_dataset = TensorDataset(x_test_tensor,y_test_tensor)"
   ]
  },
  {
   "cell_type": "code",
   "execution_count": 11,
   "id": "5811c1a4",
   "metadata": {},
   "outputs": [],
   "source": [
    "# create DataLoader \n",
    "batch_size = 64\n",
    "\n",
    "train_loader = DataLoader(train_dataset, batch_size, shuffle=True)\n",
    "val_loader = DataLoader(val_dataset, batch_size)\n",
    "test_loader = DataLoader(test_dataset, batch_size)"
   ]
  },
  {
   "cell_type": "markdown",
   "id": "426f0e35",
   "metadata": {},
   "source": [
    "preprocess => train test => to tensor => TensorDataset => DataLoader"
   ]
  },
  {
   "cell_type": "markdown",
   "id": "339239e5",
   "metadata": {},
   "source": [
    "setup for PyTorch training : model & optimizer & loss   =>  training loop"
   ]
  },
  {
   "cell_type": "code",
   "execution_count": 12,
   "id": "d87f3a58",
   "metadata": {},
   "outputs": [],
   "source": [
    "class MNISTClass(nn.Module):\n",
    "    def __init__(self, in_size, h_size, o_size):\n",
    "        super( MNISTClass , self).__init__()\n",
    "\n",
    "        layers = []\n",
    "\n",
    "        #input layer\n",
    "        layers.append(nn.Linear(in_size, h_size[0]))\n",
    "        layers.append(nn.BatchNorm1d(h_size[0]))  # Added batch norm\n",
    "        layers.append(nn.ReLU())\n",
    "        layers.append(nn.Dropout(0.2))  # Added dropout\n",
    "\n",
    "        #HL\n",
    "        for i in range(len(h_size)-1):\n",
    "            layers.append(nn.Linear(h_size[i], h_size[i+1]))\n",
    "            layers.append(nn.BatchNorm1d(h_size[i+1]))\n",
    "            layers.append(nn.ReLU())\n",
    "            layers.append(nn.Dropout(0.2))  # Added dropout\n",
    "\n",
    "        #output layer\n",
    "        layers.append(nn.Linear(h_size[-1], o_size))\n",
    "        # No activation needed on final layer when using CrossEntropyLoss\n",
    "\n",
    "        self.network = nn.Sequential(*layers)\n",
    "\n",
    "    def forward(self, x):\n",
    "        return self.network(x)\n",
    "        "
   ]
  },
  {
   "cell_type": "code",
   "execution_count": 13,
   "id": "084c56e7",
   "metadata": {},
   "outputs": [
    {
     "data": {
      "text/plain": [
       "MNISTClass(\n",
       "  (network): Sequential(\n",
       "    (0): Linear(in_features=784, out_features=128, bias=True)\n",
       "    (1): BatchNorm1d(128, eps=1e-05, momentum=0.1, affine=True, track_running_stats=True)\n",
       "    (2): ReLU()\n",
       "    (3): Dropout(p=0.2, inplace=False)\n",
       "    (4): Linear(in_features=128, out_features=64, bias=True)\n",
       "    (5): BatchNorm1d(64, eps=1e-05, momentum=0.1, affine=True, track_running_stats=True)\n",
       "    (6): ReLU()\n",
       "    (7): Dropout(p=0.2, inplace=False)\n",
       "    (8): Linear(in_features=64, out_features=32, bias=True)\n",
       "    (9): BatchNorm1d(32, eps=1e-05, momentum=0.1, affine=True, track_running_stats=True)\n",
       "    (10): ReLU()\n",
       "    (11): Dropout(p=0.2, inplace=False)\n",
       "    (12): Linear(in_features=32, out_features=10, bias=True)\n",
       "  )\n",
       ")"
      ]
     },
     "execution_count": 13,
     "metadata": {},
     "output_type": "execute_result"
    }
   ],
   "source": [
    "n_samples, n_features = X.shape\n",
    "\n",
    "model = MNISTClass(in_size=n_features, h_size=[128, 64, 32], o_size=10).to(device)\n",
    "model"
   ]
  },
  {
   "cell_type": "code",
   "execution_count": 14,
   "id": "87be8b2e",
   "metadata": {},
   "outputs": [],
   "source": [
    "loss_fn = nn.CrossEntropyLoss()"
   ]
  },
  {
   "cell_type": "code",
   "execution_count": 15,
   "id": "bea9082d",
   "metadata": {},
   "outputs": [],
   "source": [
    "optimizer = optim.SGD(model.parameters(), lr=.001, momentum=.9)\n",
    "# optimizer = optim.Adam(model.parameters(), lr=0.001)"
   ]
  },
  {
   "cell_type": "markdown",
   "id": "7c595f4d",
   "metadata": {},
   "source": [
    "train loop with validation"
   ]
  },
  {
   "cell_type": "code",
   "execution_count": 16,
   "id": "0e22bd62",
   "metadata": {},
   "outputs": [],
   "source": [
    "n_epochs = 30\n",
    "train_acc_hist, valid_acc_hist = [], []\n",
    "train_loss_hist, valid_loss_hist = [], []\n",
    "best_valid_loss = torch.inf"
   ]
  },
  {
   "cell_type": "code",
   "execution_count": 17,
   "id": "c09e3480",
   "metadata": {},
   "outputs": [
    {
     "name": "stdout",
     "output_type": "stream",
     "text": [
      "epoch:0 train_loss:5.7e+04 train_acc:42456 val_loss:2.6e+03 val_acc:6389\n",
      "model saved\n",
      "epoch:1 train_loss:2.5e+04 train_acc:49802 val_loss:1.6e+03 val_acc:6543\n",
      "model saved\n",
      "epoch:2 train_loss:1.9e+04 train_acc:50899 val_loss:1.3e+03 val_acc:6633\n",
      "model saved\n",
      "epoch:3 train_loss:1.6e+04 train_acc:51578 val_loss:1.1e+03 val_acc:6661\n",
      "model saved\n",
      "epoch:4 train_loss:1.5e+04 train_acc:51934 val_loss:1e+03 val_acc:6682\n",
      "model saved\n",
      "epoch:5 train_loss:1.3e+04 train_acc:52310 val_loss:8.9e+02 val_acc:6731\n",
      "model saved\n",
      "epoch:6 train_loss:1.2e+04 train_acc:52515 val_loss:8.2e+02 val_acc:6759\n",
      "model saved\n",
      "epoch:7 train_loss:1.2e+04 train_acc:52751 val_loss:8.3e+02 val_acc:6747\n",
      "epoch:8 train_loss:1.1e+04 train_acc:52959 val_loss:7.7e+02 val_acc:6759\n",
      "model saved\n",
      "epoch:9 train_loss:1e+04 train_acc:53060 val_loss:7.5e+02 val_acc:6783\n",
      "model saved\n",
      "epoch:10 train_loss:9.8e+03 train_acc:53186 val_loss:7.2e+02 val_acc:6783\n",
      "model saved\n",
      "epoch:11 train_loss:9.7e+03 train_acc:53236 val_loss:6.7e+02 val_acc:6790\n",
      "model saved\n",
      "epoch:12 train_loss:9.2e+03 train_acc:53372 val_loss:6.6e+02 val_acc:6807\n",
      "model saved\n",
      "epoch:13 train_loss:8.9e+03 train_acc:53476 val_loss:6.7e+02 val_acc:6807\n",
      "epoch:14 train_loss:8.5e+03 train_acc:53568 val_loss:6.3e+02 val_acc:6810\n",
      "model saved\n",
      "epoch:15 train_loss:8.3e+03 train_acc:53639 val_loss:6.2e+02 val_acc:6812\n",
      "model saved\n",
      "epoch:16 train_loss:8e+03 train_acc:53695 val_loss:6.2e+02 val_acc:6804\n",
      "epoch:17 train_loss:7.9e+03 train_acc:53769 val_loss:6.2e+02 val_acc:6812\n",
      "epoch:18 train_loss:7.4e+03 train_acc:53876 val_loss:6.3e+02 val_acc:6816\n",
      "epoch:19 train_loss:7.3e+03 train_acc:53906 val_loss:6e+02 val_acc:6823\n",
      "model saved\n",
      "epoch:20 train_loss:7.1e+03 train_acc:53979 val_loss:6.1e+02 val_acc:6812\n",
      "epoch:21 train_loss:6.9e+03 train_acc:54006 val_loss:5.9e+02 val_acc:6832\n",
      "model saved\n",
      "epoch:22 train_loss:7e+03 train_acc:53978 val_loss:5.7e+02 val_acc:6829\n",
      "model saved\n",
      "epoch:23 train_loss:6.9e+03 train_acc:54034 val_loss:5.8e+02 val_acc:6827\n",
      "epoch:24 train_loss:6.5e+03 train_acc:54099 val_loss:5.7e+02 val_acc:6842\n",
      "model saved\n",
      "epoch:25 train_loss:6.5e+03 train_acc:54060 val_loss:5.8e+02 val_acc:6828\n",
      "epoch:26 train_loss:6.4e+03 train_acc:54112 val_loss:5.5e+02 val_acc:6836\n",
      "model saved\n",
      "epoch:27 train_loss:6.3e+03 train_acc:54158 val_loss:5.8e+02 val_acc:6829\n",
      "epoch:28 train_loss:5.9e+03 train_acc:54277 val_loss:5.4e+02 val_acc:6834\n",
      "model saved\n",
      "epoch:29 train_loss:6e+03 train_acc:54229 val_loss:5.6e+02 val_acc:6829\n"
     ]
    }
   ],
   "source": [
    "for epoch in range(n_epochs):\n",
    "\n",
    "    #training loop\n",
    "    model.train()\n",
    "    train_acc, train_loss = 0, 0\n",
    "    for x_batch,y_batch in train_loader:\n",
    "        y_hat = model(x_batch)\n",
    "        loss = loss_fn(y_hat,y_batch)\n",
    "        loss.backward()\n",
    "        optimizer.step()\n",
    "        optimizer.zero_grad()\n",
    "\n",
    "        train_loss += loss.item() * len(x_batch)\n",
    "        train_acc += (y_hat.argmax(dim=1) == y_batch).sum().item()\n",
    "\n",
    "    train_loss_hist.append(train_loss / len(train_dataset)) \n",
    "    train_acc_hist.append(train_acc / len(train_dataset)) \n",
    "\n",
    "    #validation loop\n",
    "    model.eval()\n",
    "    val_acc, val_loss = 0, 0\n",
    "    with torch.no_grad():\n",
    "        for x_batch, y_batch in val_loader:\n",
    "            y_hat = model(x_batch)\n",
    "            loss = loss_fn(y_hat, y_batch)\n",
    "            val_loss += loss.item() * len(x_batch)\n",
    "            val_acc += (y_batch == y_hat.argmax(dim=1)).sum().item()\n",
    "\n",
    "        valid_acc_hist.append(val_acc / len(val_dataset))\n",
    "        valid_loss_hist.append(val_loss / len(val_dataset))\n",
    "\n",
    "    print(f\"epoch:{epoch} train_loss:{train_loss:.2} train_acc:{train_acc} val_loss:{val_loss:.2} val_acc:{val_acc}\")\n",
    "        \n",
    "    if val_loss < best_valid_loss:\n",
    "        torch.save(model.state_dict(), 'best_model_with_dropout.pt')\n",
    "        best_valid_loss = val_loss\n",
    "        print('model saved')\n",
    "\n"
   ]
  },
  {
   "cell_type": "markdown",
   "id": "f76fb14b",
   "metadata": {},
   "source": [
    "final evaluation with test data"
   ]
  },
  {
   "cell_type": "code",
   "execution_count": 18,
   "id": "9a29108d",
   "metadata": {},
   "outputs": [],
   "source": [
    "final_model = model.load_state_dict(torch.load(\"best_model_with_dropout.pt\"))"
   ]
  },
  {
   "cell_type": "code",
   "execution_count": 19,
   "id": "80da2bbf",
   "metadata": {},
   "outputs": [
    {
     "name": "stdout",
     "output_type": "stream",
     "text": [
      "\n",
      "Final Test Accuracy of MLP: 0.9803\n",
      "\n",
      "Final Test Accuracy of Random Forest:0.963\n"
     ]
    }
   ],
   "source": [
    "model.eval()\n",
    "test_acc = 0\n",
    "with torch.no_grad():\n",
    "    for x_batch, y_batch in test_loader:\n",
    "        y_hat = model(x_batch)\n",
    "        loss = loss_fn(y_hat, y_batch)\n",
    "        test_acc += (y_hat.argmax(dim=1) == y_batch).sum().item()\n",
    "    \n",
    "    test_acc = test_acc / len(test_dataset)\n",
    "    print(f\"\\nFinal Test Accuracy of MLP: {test_acc:.4f}\")\n",
    "    print(f\"\\nFinal Test Accuracy of Random Forest:{rf_accuracy:.4}\")\n",
    "\n"
   ]
  },
  {
   "cell_type": "markdown",
   "id": "3302409c",
   "metadata": {},
   "source": [
    "plotting the results"
   ]
  },
  {
   "cell_type": "code",
   "execution_count": 20,
   "id": "fe18cdd1",
   "metadata": {},
   "outputs": [
    {
     "data": {
      "image/png": "[encoded data removed]",
      "text/plain": [
       "<Figure size 1200x500 with 2 Axes>"
      ]
     },
     "metadata": {},
     "output_type": "display_data"
    }
   ],
   "source": [
    "## 9. Plotting results\n",
    "plt.figure(figsize=(12, 5))\n",
    "plt.subplot(1, 2, 1)\n",
    "plt.plot(train_loss_hist, label='Train Loss')\n",
    "plt.plot(valid_loss_hist, label='Validation Loss')\n",
    "plt.xlabel('Epoch')\n",
    "plt.ylabel('Loss')\n",
    "plt.legend()\n",
    "\n",
    "plt.subplot(1, 2, 2)\n",
    "plt.plot(train_acc_hist, label='Train Accuracy')\n",
    "plt.plot(valid_acc_hist, label='Validation Accuracy')\n",
    "plt.xlabel('Epoch')\n",
    "plt.ylabel('Accuracy')\n",
    "plt.legend()\n",
    "plt.show()"
   ]
  },
  {
   "cell_type": "markdown",
   "id": "749cf854",
   "metadata": {},
   "source": [
    "Optuna Optimization "
   ]
  },
  {
   "cell_type": "markdown",
   "id": "09080e14",
   "metadata": {},
   "source": [
    "Optuna Hyperparameter Optimization with TPESampler and MedianPruner"
   ]
  },
  {
   "cell_type": "code",
   "execution_count": 21,
   "id": "0f3fea1f",
   "metadata": {},
   "outputs": [],
   "source": [
    "import optuna\n",
    "from optuna.samplers import TPESampler\n",
    "from optuna.pruners import MedianPruner"
   ]
  },
  {
   "cell_type": "code",
   "execution_count": 22,
   "id": "2566b9c2",
   "metadata": {},
   "outputs": [],
   "source": [
    "def objective(trial):\n",
    "    # Suggest hyperparameters\n",
    "    h_size = [\n",
    "        trial.suggest_int('h1_size', 32, 256),\n",
    "        trial.suggest_int('h2_size', 32, 128),\n",
    "        trial.suggest_int('h3_size', 16, 64)\n",
    "    ]\n",
    "    lr = trial.suggest_float('lr', 1e-4, 1e-2, log=True)\n",
    "    dropout_rate = trial.suggest_float('dropout_rate', 0.1, 0.5)\n",
    "    batch_size = trial.suggest_categorical('batch_size', [32, 64, 128])\n",
    "    \n",
    "    # Create model with suggested hyperparameters\n",
    "    model = MNISTClass(in_size=n_features, h_size=h_size, o_size=10).to(device)\n",
    "    \n",
    "    # Create new data loaders with suggested batch size\n",
    "    train_loader = DataLoader(train_dataset, batch_size, shuffle=True)\n",
    "    val_loader = DataLoader(val_dataset, batch_size)\n",
    "    \n",
    "    # Training setup\n",
    "    optimizer = optim.Adam(model.parameters(), lr=lr)\n",
    "    loss_fn = nn.CrossEntropyLoss()\n",
    "    \n",
    "    # Training loop with pruning\n",
    "    for epoch in range(10):\n",
    "        model.train()\n",
    "        epoch_loss = 0\n",
    "        for x_batch, y_batch in train_loader:\n",
    "            optimizer.zero_grad()\n",
    "            y_pred = model(x_batch)\n",
    "            loss = loss_fn(y_pred, y_batch)\n",
    "            loss.backward()\n",
    "            optimizer.step()\n",
    "            epoch_loss += loss.item()\n",
    "        \n",
    "        # Validation accuracy for pruning\n",
    "        model.eval()\n",
    "        val_correct = 0\n",
    "        with torch.no_grad():\n",
    "            for x_batch, y_batch in val_loader:\n",
    "                y_pred = model(x_batch)\n",
    "                val_correct += (y_pred.argmax(dim=1) == y_batch).sum().item()\n",
    "        \n",
    "        val_acc = val_correct / len(val_dataset)\n",
    "        trial.report(val_acc, epoch)\n",
    "        \n",
    "        if trial.should_prune():\n",
    "            raise optuna.TrialPruned()\n",
    "    \n",
    "    return val_acc\n"
   ]
  },
  {
   "cell_type": "code",
   "execution_count": 23,
   "id": "7f8becd6",
   "metadata": {},
   "outputs": [
    {
     "name": "stderr",
     "output_type": "stream",
     "text": [
      "[I 2025-05-25 23:22:18,815] A new study created in memory with name: no-name-1c67c0ee-ac60-424b-8ece-78c75a7b1176\n",
      "[I 2025-05-25 23:22:31,230] Trial 0 finished with value: 0.9782857142857143 and parameters: {'h1_size': 116, 'h2_size': 124, 'h3_size': 51, 'lr': 0.0015751320499779737, 'dropout_rate': 0.1624074561769746, 'batch_size': 128}. Best is trial 0 with value: 0.9782857142857143.\n",
      "[I 2025-05-25 23:23:36,129] Trial 1 finished with value: 0.975 and parameters: {'h1_size': 167, 'h2_size': 100, 'h3_size': 17, 'lr': 0.008706020878304856, 'dropout_rate': 0.4329770563201687, 'batch_size': 32}. Best is trial 0 with value: 0.9782857142857143.\n",
      "[I 2025-05-25 23:24:18,498] Trial 2 finished with value: 0.9721428571428572 and parameters: {'h1_size': 100, 'h2_size': 82, 'h3_size': 37, 'lr': 0.0003823475224675188, 'dropout_rate': 0.34474115788895177, 'batch_size': 128}. Best is trial 0 with value: 0.9782857142857143.\n",
      "[I 2025-05-25 23:25:34,289] Trial 3 finished with value: 0.9777142857142858 and parameters: {'h1_size': 134, 'h2_size': 108, 'h3_size': 25, 'lr': 0.0010677482709481358, 'dropout_rate': 0.33696582754481696, 'batch_size': 64}. Best is trial 0 with value: 0.9782857142857143.\n",
      "[I 2025-05-25 23:26:47,286] Trial 4 finished with value: 0.9665714285714285 and parameters: {'h1_size': 46, 'h2_size': 124, 'h3_size': 63, 'lr': 0.004138040112561018, 'dropout_rate': 0.2218455076693483, 'batch_size': 64}. Best is trial 0 with value: 0.9782857142857143.\n",
      "[I 2025-05-25 23:27:29,593] Trial 5 pruned. \n",
      "[I 2025-05-25 23:28:12,806] Trial 6 finished with value: 0.9765714285714285 and parameters: {'h1_size': 155, 'h2_size': 49, 'h3_size': 63, 'lr': 0.0035503048581283078, 'dropout_rate': 0.4757995766256756, 'batch_size': 128}. Best is trial 0 with value: 0.9782857142857143.\n",
      "[I 2025-05-25 23:28:34,747] Trial 7 pruned. \n",
      "[I 2025-05-25 23:29:30,862] Trial 8 pruned. \n",
      "[I 2025-05-25 23:29:52,919] Trial 9 pruned. \n",
      "[I 2025-05-25 23:29:57,576] Trial 10 pruned. \n",
      "[I 2025-05-25 23:30:20,305] Trial 11 finished with value: 0.9788571428571429 and parameters: {'h1_size': 116, 'h2_size': 127, 'h3_size': 31, 'lr': 0.0012689081933149216, 'dropout_rate': 0.32421736795107264, 'batch_size': 64}. Best is trial 11 with value: 0.9788571428571429.\n",
      "[I 2025-05-25 23:30:32,534] Trial 12 finished with value: 0.9775714285714285 and parameters: {'h1_size': 195, 'h2_size': 128, 'h3_size': 32, 'lr': 0.001345797702963441, 'dropout_rate': 0.2769377285266796, 'batch_size': 128}. Best is trial 11 with value: 0.9788571428571429.\n",
      "[I 2025-05-25 23:30:38,792] Trial 13 pruned. \n",
      "[I 2025-05-25 23:30:44,799] Trial 14 pruned. \n",
      "[I 2025-05-25 23:31:05,862] Trial 15 finished with value: 0.9804285714285714 and parameters: {'h1_size': 196, 'h2_size': 99, 'h3_size': 57, 'lr': 0.0005896073175606767, 'dropout_rate': 0.37529180478007984, 'batch_size': 64}. Best is trial 15 with value: 0.9804285714285714.\n",
      "[I 2025-05-25 23:31:12,189] Trial 16 pruned. \n",
      "[I 2025-05-25 23:31:32,897] Trial 17 finished with value: 0.9795714285714285 and parameters: {'h1_size': 246, 'h2_size': 69, 'h3_size': 31, 'lr': 0.0007098701732564449, 'dropout_rate': 0.4951293378618701, 'batch_size': 64}. Best is trial 15 with value: 0.9804285714285714.\n",
      "[I 2025-05-25 23:31:39,159] Trial 18 pruned. \n",
      "[I 2025-05-25 23:31:45,432] Trial 19 pruned. \n",
      "[I 2025-05-25 23:32:06,382] Trial 20 finished with value: 0.979 and parameters: {'h1_size': 255, 'h2_size': 68, 'h3_size': 35, 'lr': 0.0007114110356851725, 'dropout_rate': 0.4589817531738523, 'batch_size': 64}. Best is trial 15 with value: 0.9804285714285714.\n",
      "[I 2025-05-25 23:32:21,350] Trial 21 pruned. \n",
      "[I 2025-05-25 23:33:34,924] Trial 22 finished with value: 0.9794285714285714 and parameters: {'h1_size': 220, 'h2_size': 90, 'h3_size': 27, 'lr': 0.0007336538861985164, 'dropout_rate': 0.37303466582934336, 'batch_size': 64}. Best is trial 15 with value: 0.9804285714285714.\n",
      "[I 2025-05-25 23:33:59,897] Trial 23 pruned. \n",
      "[I 2025-05-25 23:34:28,133] Trial 24 pruned. \n",
      "[I 2025-05-25 23:35:46,592] Trial 25 pruned. \n",
      "[I 2025-05-25 23:35:52,858] Trial 26 pruned. \n",
      "[I 2025-05-25 23:35:59,234] Trial 27 pruned. \n",
      "[I 2025-05-25 23:36:05,395] Trial 28 pruned. \n",
      "[I 2025-05-25 23:36:47,604] Trial 29 finished with value: 0.979 and parameters: {'h1_size': 204, 'h2_size': 90, 'h3_size': 58, 'lr': 0.001604800457394921, 'dropout_rate': 0.31126636442225036, 'batch_size': 32}. Best is trial 15 with value: 0.9804285714285714.\n",
      "[I 2025-05-25 23:37:08,270] Trial 30 pruned. \n",
      "[I 2025-05-25 23:37:15,840] Trial 31 pruned. \n",
      "[I 2025-05-25 23:37:23,146] Trial 32 pruned. \n",
      "[I 2025-05-25 23:37:34,806] Trial 33 pruned. \n",
      "[I 2025-05-25 23:37:42,196] Trial 34 pruned. \n",
      "[I 2025-05-25 23:38:06,751] Trial 35 finished with value: 0.9792857142857143 and parameters: {'h1_size': 234, 'h2_size': 104, 'h3_size': 39, 'lr': 0.0010703573463776387, 'dropout_rate': 0.48387589074671417, 'batch_size': 64}. Best is trial 15 with value: 0.9804285714285714.\n",
      "[I 2025-05-25 23:38:24,257] Trial 36 pruned. \n",
      "[I 2025-05-25 23:38:34,762] Trial 37 pruned. \n",
      "[I 2025-05-25 23:38:40,689] Trial 38 pruned. \n",
      "[I 2025-05-25 23:38:51,103] Trial 39 pruned. \n",
      "[I 2025-05-25 23:39:02,805] Trial 40 pruned. \n",
      "[I 2025-05-25 23:39:13,188] Trial 41 pruned. \n",
      "[I 2025-05-25 23:39:19,460] Trial 42 pruned. \n",
      "[I 2025-05-25 23:39:25,753] Trial 43 pruned. \n",
      "[I 2025-05-25 23:39:31,896] Trial 44 pruned. \n",
      "[I 2025-05-25 23:39:52,638] Trial 45 finished with value: 0.9787142857142858 and parameters: {'h1_size': 230, 'h2_size': 102, 'h3_size': 39, 'lr': 0.00048756478494871406, 'dropout_rate': 0.47625777210276027, 'batch_size': 64}. Best is trial 15 with value: 0.9804285714285714.\n",
      "[I 2025-05-25 23:39:58,497] Trial 46 pruned. \n",
      "[I 2025-05-25 23:40:04,718] Trial 47 pruned. \n",
      "[I 2025-05-25 23:40:10,961] Trial 48 pruned. \n",
      "[I 2025-05-25 23:40:17,209] Trial 49 pruned. \n"
     ]
    }
   ],
   "source": [
    "# Create study with TPESampler and MedianPruner\n",
    "sampler = TPESampler(seed=42)\n",
    "pruner = MedianPruner(n_startup_trials=5, n_warmup_steps=2, interval_steps=1)\n",
    "\n",
    "study = optuna.create_study(direction='maximize', sampler=sampler, pruner=pruner)\n",
    "study.optimize(objective, n_trials=50)"
   ]
  },
  {
   "cell_type": "code",
   "execution_count": 24,
   "id": "90eb523a",
   "metadata": {},
   "outputs": [
    {
     "name": "stdout",
     "output_type": "stream",
     "text": [
      "Best trial:\n",
      "  Validation Accuracy: 0.9804\n",
      "  Params: \n",
      "    h1_size: 196\n",
      "    h2_size: 99\n",
      "    h3_size: 57\n",
      "    lr: 0.0005896073175606767\n",
      "    dropout_rate: 0.37529180478007984\n",
      "    batch_size: 64\n"
     ]
    }
   ],
   "source": [
    "# Print best hyperparameters\n",
    "print(\"Best trial:\")\n",
    "trial = study.best_trial\n",
    "print(f\"  Validation Accuracy: {trial.value:.4f}\")\n",
    "print(\"  Params: \")\n",
    "for key, value in trial.params.items():\n",
    "    print(f\"    {key}: {value}\")"
   ]
  },
  {
   "cell_type": "code",
   "execution_count": 25,
   "id": "4580d7ab",
   "metadata": {},
   "outputs": [],
   "source": [
    "# 11. Train final model with best hyperparameters\n",
    "best_h_size = [trial.params['h1_size'], trial.params['h2_size'], trial.params['h3_size']]\n",
    "best_lr = trial.params['lr']\n",
    "best_dropout = trial.params['dropout_rate']\n",
    "best_batch_size = trial.params['batch_size']"
   ]
  },
  {
   "cell_type": "code",
   "execution_count": 26,
   "id": "a4a47a77",
   "metadata": {},
   "outputs": [],
   "source": [
    "class OptimizedMNISTClassifier(nn.Module):\n",
    "    def __init__(self, in_size, h_size, o_size, dropout_rate):\n",
    "        super(OptimizedMNISTClassifier, self).__init__()\n",
    "        layers = []\n",
    "        layers.append(nn.Linear(in_size, h_size[0]))\n",
    "        layers.append(nn.BatchNorm1d(h_size[0]))\n",
    "        layers.append(nn.ReLU())\n",
    "        layers.append(nn.Dropout(dropout_rate))\n",
    "        \n",
    "        for i in range(len(h_size)-1):\n",
    "            layers.append(nn.Linear(h_size[i], h_size[i+1]))\n",
    "            layers.append(nn.BatchNorm1d(h_size[i+1]))\n",
    "            layers.append(nn.ReLU())\n",
    "            layers.append(nn.Dropout(dropout_rate))\n",
    "        \n",
    "        layers.append(nn.Linear(h_size[-1], o_size))\n",
    "        self.network = nn.Sequential(*layers)\n",
    "    \n",
    "    def forward(self, x):\n",
    "        return self.network(x)"
   ]
  },
  {
   "cell_type": "code",
   "execution_count": 27,
   "id": "d51c4260",
   "metadata": {},
   "outputs": [],
   "source": [
    "# Create and train optimized model\n",
    "model = OptimizedMNISTClassifier(in_size=n_features, h_size=best_h_size, o_size=10, dropout_rate=best_dropout).to(device)\n",
    "train_loader = DataLoader(train_dataset, best_batch_size, shuffle=True)\n",
    "val_loader = DataLoader(val_dataset, best_batch_size)\n",
    "test_loader = DataLoader(test_dataset, best_batch_size)\n",
    "\n",
    "optimizer = optim.Adam(model.parameters(), lr=best_lr)\n",
    "loss_fn = nn.CrossEntropyLoss()\n",
    "scheduler = optim.lr_scheduler.ReduceLROnPlateau(optimizer, 'min', patience=3, factor=0.5)"
   ]
  },
  {
   "cell_type": "code",
   "execution_count": 28,
   "id": "fc2fe82b",
   "metadata": {},
   "outputs": [],
   "source": [
    "n_epochs = 30\n",
    "best_valid_loss = torch.inf"
   ]
  },
  {
   "cell_type": "code",
   "execution_count": 29,
   "id": "104b3268",
   "metadata": {},
   "outputs": [
    {
     "name": "stdout",
     "output_type": "stream",
     "text": [
      "Epoch 1: Model saved with val loss: 0.1959\n",
      "Epoch 2: Model saved with val loss: 0.1419\n",
      "Epoch 3: Model saved with val loss: 0.1253\n",
      "Epoch 4: Model saved with val loss: 0.1108\n",
      "Epoch 5: Model saved with val loss: 0.1106\n",
      "Epoch 6: Model saved with val loss: 0.0931\n",
      "Epoch 7: Model saved with val loss: 0.0894\n",
      "Epoch 8: Model saved with val loss: 0.0842\n",
      "Epoch 9: Model saved with val loss: 0.0826\n",
      "Epoch 12: Model saved with val loss: 0.0785\n",
      "Epoch 17: Model saved with val loss: 0.0740\n",
      "Epoch 20: Model saved with val loss: 0.0724\n",
      "Epoch 21: Model saved with val loss: 0.0708\n",
      "Epoch 26: Model saved with val loss: 0.0680\n"
     ]
    }
   ],
   "source": [
    "for epoch in range(n_epochs):\n",
    "    model.train()\n",
    "    train_loss = 0\n",
    "    for x_batch, y_batch in train_loader:\n",
    "        optimizer.zero_grad()\n",
    "        y_pred = model(x_batch)\n",
    "        loss = loss_fn(y_pred, y_batch)\n",
    "        loss.backward()\n",
    "        optimizer.step()\n",
    "        train_loss += loss.item() * x_batch.size(0)\n",
    "    \n",
    "    model.eval()\n",
    "    val_loss = 0\n",
    "    with torch.no_grad():\n",
    "        for x_batch, y_batch in val_loader:\n",
    "            y_pred = model(x_batch)\n",
    "            val_loss += loss_fn(y_pred, y_batch).item() * x_batch.size(0)\n",
    "    \n",
    "    val_loss /= len(val_dataset)\n",
    "    scheduler.step(val_loss)\n",
    "    \n",
    "    if val_loss < best_valid_loss:\n",
    "        torch.save(model.state_dict(), 'optimized_model.pt')\n",
    "        best_valid_loss = val_loss\n",
    "        print(f\"Epoch {epoch+1}: Model saved with val loss: {val_loss:.4f}\")\n"
   ]
  },
  {
   "cell_type": "code",
   "execution_count": 30,
   "id": "7b750261",
   "metadata": {},
   "outputs": [],
   "source": [
    "# Final evaluation\n",
    "model.load_state_dict(torch.load('optimized_model.pt'))\n",
    "model.eval()\n",
    "test_correct = 0\n",
    "with torch.no_grad():\n",
    "    for x_batch, y_batch in test_loader:\n",
    "        y_pred = model(x_batch)\n",
    "        test_correct += (y_pred.argmax(dim=1) == y_batch).sum().item()\n",
    "\n",
    "optimized_test_acc = test_correct / len(test_dataset)"
   ]
  },
  {
   "cell_type": "code",
   "execution_count": 31,
   "id": "b7fb0636",
   "metadata": {},
   "outputs": [
    {
     "name": "stdout",
     "output_type": "stream",
     "text": [
      "\n",
      "Optimized Model Test Accuracy: 0.9854\n",
      "Original Model Test Accuracy: 0.9803\n",
      "Random Forest Test Accuracy: 0.9630\n"
     ]
    }
   ],
   "source": [
    "\n",
    "print(f\"\\nOptimized Model Test Accuracy: {optimized_test_acc:.4f}\")\n",
    "print(f\"Original Model Test Accuracy: {test_acc:.4f}\")\n",
    "print(f\"Random Forest Test Accuracy: {rf_accuracy:.4f}\")"
   ]
  },
  {
   "cell_type": "markdown",
   "id": "dcff743a",
   "metadata": {},
   "source": [
    "visualization"
   ]
  },
  {
   "cell_type": "code",
   "execution_count": 32,
   "id": "34dfb78d",
   "metadata": {},
   "outputs": [
    {
     "data": {
      "image/png": "[encoded data removed]",
      "text/plain": [
       "<Figure size 1500x500 with 3 Axes>"
      ]
     },
     "metadata": {},
     "output_type": "display_data"
    }
   ],
   "source": [
    "plt.figure(figsize=(15, 5))\n",
    "\n",
    "#  Loss\n",
    "plt.subplot(1, 3, 1)\n",
    "plt.plot(train_loss_hist, label='Train Loss', color='blue', linewidth=2)\n",
    "plt.plot(valid_loss_hist, label='Validation Loss', color='orange', linewidth=2)\n",
    "plt.axvline(x=np.argmin(valid_loss_hist), color='red', linestyle='--', label='Best Model')\n",
    "plt.title('Training and Validation Loss')\n",
    "plt.xlabel('Epoch')\n",
    "plt.ylabel('Loss')\n",
    "plt.grid(True)\n",
    "plt.legend()\n",
    "\n",
    "#  Accuracy\n",
    "plt.subplot(1, 3, 2)\n",
    "plt.plot(train_acc_hist, label='Train Accuracy', color='blue', linewidth=2)\n",
    "plt.plot(valid_acc_hist, label='Validation Accuracy', color='orange', linewidth=2)\n",
    "plt.axvline(x=np.argmax(valid_acc_hist), color='red', linestyle='--', label='Best Model')\n",
    "plt.title('Training and Validation Accuracy')\n",
    "plt.xlabel('Epoch')\n",
    "plt.ylabel('Accuracy')\n",
    "plt.grid(True)\n",
    "plt.legend()\n",
    "\n",
    "#model comparision\n",
    "plt.subplot(1, 3, 3)\n",
    "models = ['Random Forest', 'Initial MLP', 'Optimized MLP']\n",
    "accuracies = [rf_accuracy, test_acc, optimized_test_acc]\n",
    "plt.bar(models, accuracies, color=['green', 'blue', 'orange'])\n",
    "plt.title('Model Comparison')\n",
    "plt.ylabel('Test Accuracy')\n",
    "plt.ylim(0, 1)\n",
    "plt.grid(True, axis='y')\n",
    "\n",
    "plt.tight_layout()\n",
    "plt.show()"
   ]
  },
  {
   "cell_type": "code",
   "execution_count": 33,
   "id": "bb7a0c5d",
   "metadata": {},
   "outputs": [],
   "source": [
    "import optuna.visualization as vis"
   ]
  },
  {
   "cell_type": "code",
   "execution_count": 34,
   "id": "bae9fb74",
   "metadata": {},
   "outputs": [
    {
     "data": {
      "application/vnd.plotly.v1+json": {
       "config": {
        "plotlyServerURL": "https://plot.ly"
       },
       "data": [
        {
         "mode": "markers",
         "name": "Objective Value",
         "type": "scatter",
         "x": [
          0,
          1,
          2,
          3,
          4,
          6,
          11,
          12,
          15,
          17,
          20,
          22,
          29,
          35,
          45
         ],
         "y": [
          0.9782857142857143,
          0.975,
          0.9721428571428572,
          0.9777142857142858,
          0.9665714285714285,
          0.9765714285714285,
          0.9788571428571429,
          0.9775714285714285,
          0.9804285714285714,
          0.9795714285714285,
          0.979,
          0.9794285714285714,
          0.979,
          0.9792857142857143,
          0.9787142857142858
         ]
        },
        {
         "mode": "lines",
         "name": "Best Value",
         "type": "scatter",
         "x": [
          0,
          1,
          2,
          3,
          4,
          5,
          6,
          7,
          8,
          9,
          10,
          11,
          12,
          13,
          14,
          15,
          16,
          17,
          18,
          19,
          20,
          21,
          22,
          23,
          24,
          25,
          26,
          27,
          28,
          29,
          30,
          31,
          32,
          33,
          34,
          35,
          36,
          37,
          38,
          39,
          40,
          41,
          42,
          43,
          44,
          45,
          46,
          47,
          48,
          49
         ],
         "y": [
          0.9782857142857143,
          0.9782857142857143,
          0.9782857142857143,
          0.9782857142857143,
          0.9782857142857143,
          0.9782857142857143,
          0.9782857142857143,
          0.9782857142857143,
          0.9782857142857143,
          0.9782857142857143,
          0.9782857142857143,
          0.9788571428571429,
          0.9788571428571429,
          0.9788571428571429,
          0.9788571428571429,
          0.9804285714285714,
          0.9804285714285714,
          0.9804285714285714,
          0.9804285714285714,
          0.9804285714285714,
          0.9804285714285714,
          0.9804285714285714,
          0.9804285714285714,
          0.9804285714285714,
          0.9804285714285714,
          0.9804285714285714,
          0.9804285714285714,
          0.9804285714285714,
          0.9804285714285714,
          0.9804285714285714,
          0.9804285714285714,
          0.9804285714285714,
          0.9804285714285714,
          0.9804285714285714,
          0.9804285714285714,
          0.9804285714285714,
          0.9804285714285714,
          0.9804285714285714,
          0.9804285714285714,
          0.9804285714285714,
          0.9804285714285714,
          0.9804285714285714,
          0.9804285714285714,
          0.9804285714285714,
          0.9804285714285714,
          0.9804285714285714,
          0.9804285714285714,
          0.9804285714285714,
          0.9804285714285714,
          0.9804285714285714
         ]
        },
        {
         "marker": {
          "color": "#cccccc"
         },
         "mode": "markers",
         "name": "Infeasible Trial",
         "showlegend": false,
         "type": "scatter",
         "x": [],
         "y": []
        }
       ],
       "layout": {
        "template": {
         "data": {
          "bar": [
           {
            "error_x": {
             "color": "#2a3f5f"
            },
            "error_y": {
             "color": "#2a3f5f"
            },
            "marker": {
             "line": {
              "color": "#E5ECF6",
              "width": 0.5
             },
             "pattern": {
              "fillmode": "overlay",
              "size": 10,
              "solidity": 0.2
             }
            },
            "type": "bar"
           }
          ],
          "barpolar": [
           {
            "marker": {
             "line": {
              "color": "#E5ECF6",
              "width": 0.5
             },
             "pattern": {
              "fillmode": "overlay",
              "size": 10,
              "solidity": 0.2
             }
            },
            "type": "barpolar"
           }
          ],
          "carpet": [
           {
            "aaxis": {
             "endlinecolor": "#2a3f5f",
             "gridcolor": "white",
             "linecolor": "white",
             "minorgridcolor": "white",
             "startlinecolor": "#2a3f5f"
            },
            "baxis": {
             "endlinecolor": "#2a3f5f",
             "gridcolor": "white",
             "linecolor": "white",
             "minorgridcolor": "white",
             "startlinecolor": "#2a3f5f"
            },
            "type": "carpet"
           }
          ],
          "choropleth": [
           {
            "colorbar": {
             "outlinewidth": 0,
             "ticks": ""
            },
            "type": "choropleth"
           }
          ],
          "contour": [
           {
            "colorbar": {
             "outlinewidth": 0,
             "ticks": ""
            },
            "colorscale": [
             [
              0,
              "#0d0887"
             ],
             [
              0.1111111111111111,
              "#46039f"
             ],
             [
              0.2222222222222222,
              "#7201a8"
             ],
             [
              0.3333333333333333,
              "#9c179e"
             ],
             [
              0.4444444444444444,
              "#bd3786"
             ],
             [
              0.5555555555555556,
              "#d8576b"
             ],
             [
              0.6666666666666666,
              "#ed7953"
             ],
             [
              0.7777777777777778,
              "#fb9f3a"
             ],
             [
              0.8888888888888888,
              "#fdca26"
             ],
             [
              1,
              "#f0f921"
             ]
            ],
            "type": "contour"
           }
          ],
          "contourcarpet": [
           {
            "colorbar": {
             "outlinewidth": 0,
             "ticks": ""
            },
            "type": "contourcarpet"
           }
          ],
          "heatmap": [
           {
            "colorbar": {
             "outlinewidth": 0,
             "ticks": ""
            },
            "colorscale": [
             [
              0,
              "#0d0887"
             ],
             [
              0.1111111111111111,
              "#46039f"
             ],
             [
              0.2222222222222222,
              "#7201a8"
             ],
             [
              0.3333333333333333,
              "#9c179e"
             ],
             [
              0.4444444444444444,
              "#bd3786"
             ],
             [
              0.5555555555555556,
              "#d8576b"
             ],
             [
              0.6666666666666666,
              "#ed7953"
             ],
             [
              0.7777777777777778,
              "#fb9f3a"
             ],
             [
              0.8888888888888888,
              "#fdca26"
             ],
             [
              1,
              "#f0f921"
             ]
            ],
            "type": "heatmap"
           }
          ],
          "histogram": [
           {
            "marker": {
             "pattern": {
              "fillmode": "overlay",
              "size": 10,
              "solidity": 0.2
             }
            },
            "type": "histogram"
           }
          ],
          "histogram2d": [
           {
            "colorbar": {
             "outlinewidth": 0,
             "ticks": ""
            },
            "colorscale": [
             [
              0,
              "#0d0887"
             ],
             [
              0.1111111111111111,
              "#46039f"
             ],
             [
              0.2222222222222222,
              "#7201a8"
             ],
             [
              0.3333333333333333,
              "#9c179e"
             ],
             [
              0.4444444444444444,
              "#bd3786"
             ],
             [
              0.5555555555555556,
              "#d8576b"
             ],
             [
              0.6666666666666666,
              "#ed7953"
             ],
             [
              0.7777777777777778,
              "#fb9f3a"
             ],
             [
              0.8888888888888888,
              "#fdca26"
             ],
             [
              1,
              "#f0f921"
             ]
            ],
            "type": "histogram2d"
           }
          ],
          "histogram2dcontour": [
           {
            "colorbar": {
             "outlinewidth": 0,
             "ticks": ""
            },
            "colorscale": [
             [
              0,
              "#0d0887"
             ],
             [
              0.1111111111111111,
              "#46039f"
             ],
             [
              0.2222222222222222,
              "#7201a8"
             ],
             [
              0.3333333333333333,
              "#9c179e"
             ],
             [
              0.4444444444444444,
              "#bd3786"
             ],
             [
              0.5555555555555556,
              "#d8576b"
             ],
             [
              0.6666666666666666,
              "#ed7953"
             ],
             [
              0.7777777777777778,
              "#fb9f3a"
             ],
             [
              0.8888888888888888,
              "#fdca26"
             ],
             [
              1,
              "#f0f921"
             ]
            ],
            "type": "histogram2dcontour"
           }
          ],
          "mesh3d": [
           {
            "colorbar": {
             "outlinewidth": 0,
             "ticks": ""
            },
            "type": "mesh3d"
           }
          ],
          "parcoords": [
           {
            "line": {
             "colorbar": {
              "outlinewidth": 0,
              "ticks": ""
             }
            },
            "type": "parcoords"
           }
          ],
          "pie": [
           {
            "automargin": true,
            "type": "pie"
           }
          ],
          "scatter": [
           {
            "fillpattern": {
             "fillmode": "overlay",
             "size": 10,
             "solidity": 0.2
            },
            "type": "scatter"
           }
          ],
          "scatter3d": [
           {
            "line": {
             "colorbar": {
              "outlinewidth": 0,
              "ticks": ""
             }
            },
            "marker": {
             "colorbar": {
              "outlinewidth": 0,
              "ticks": ""
             }
            },
            "type": "scatter3d"
           }
          ],
          "scattercarpet": [
           {
            "marker": {
             "colorbar": {
              "outlinewidth": 0,
              "ticks": ""
             }
            },
            "type": "scattercarpet"
           }
          ],
          "scattergeo": [
           {
            "marker": {
             "colorbar": {
              "outlinewidth": 0,
              "ticks": ""
             }
            },
            "type": "scattergeo"
           }
          ],
          "scattergl": [
           {
            "marker": {
             "colorbar": {
              "outlinewidth": 0,
              "ticks": ""
             }
            },
            "type": "scattergl"
           }
          ],
          "scattermap": [
           {
            "marker": {
             "colorbar": {
              "outlinewidth": 0,
              "ticks": ""
             }
            },
            "type": "scattermap"
           }
          ],
          "scattermapbox": [
           {
            "marker": {
             "colorbar": {
              "outlinewidth": 0,
              "ticks": ""
             }
            },
            "type": "scattermapbox"
           }
          ],
          "scatterpolar": [
           {
            "marker": {
             "colorbar": {
              "outlinewidth": 0,
              "ticks": ""
             }
            },
            "type": "scatterpolar"
           }
          ],
          "scatterpolargl": [
           {
            "marker": {
             "colorbar": {
              "outlinewidth": 0,
              "ticks": ""
             }
            },
            "type": "scatterpolargl"
           }
          ],
          "scatterternary": [
           {
            "marker": {
             "colorbar": {
              "outlinewidth": 0,
              "ticks": ""
             }
            },
            "type": "scatterternary"
           }
          ],
          "surface": [
           {
            "colorbar": {
             "outlinewidth": 0,
             "ticks": ""
            },
            "colorscale": [
             [
              0,
              "#0d0887"
             ],
             [
              0.1111111111111111,
              "#46039f"
             ],
             [
              0.2222222222222222,
              "#7201a8"
             ],
             [
              0.3333333333333333,
              "#9c179e"
             ],
             [
              0.4444444444444444,
              "#bd3786"
             ],
             [
              0.5555555555555556,
              "#d8576b"
             ],
             [
              0.6666666666666666,
              "#ed7953"
             ],
             [
              0.7777777777777778,
              "#fb9f3a"
             ],
             [
              0.8888888888888888,
              "#fdca26"
             ],
             [
              1,
              "#f0f921"
             ]
            ],
            "type": "surface"
           }
          ],
          "table": [
           {
            "cells": {
             "fill": {
              "color": "#EBF0F8"
             },
             "line": {
              "color": "white"
             }
            },
            "header": {
             "fill": {
              "color": "#C8D4E3"
             },
             "line": {
              "color": "white"
             }
            },
            "type": "table"
           }
          ]
         },
         "layout": {
          "annotationdefaults": {
           "arrowcolor": "#2a3f5f",
           "arrowhead": 0,
           "arrowwidth": 1
          },
          "autotypenumbers": "strict",
          "coloraxis": {
           "colorbar": {
            "outlinewidth": 0,
            "ticks": ""
           }
          },
          "colorscale": {
           "diverging": [
            [
             0,
             "#8e0152"
            ],
            [
             0.1,
             "#c51b7d"
            ],
            [
             0.2,
             "#de77ae"
            ],
            [
             0.3,
             "#f1b6da"
            ],
            [
             0.4,
             "#fde0ef"
            ],
            [
             0.5,
             "#f7f7f7"
            ],
            [
             0.6,
             "#e6f5d0"
            ],
            [
             0.7,
             "#b8e186"
            ],
            [
             0.8,
             "#7fbc41"
            ],
            [
             0.9,
             "#4d9221"
            ],
            [
             1,
             "#276419"
            ]
           ],
           "sequential": [
            [
             0,
             "#0d0887"
            ],
            [
             0.1111111111111111,
             "#46039f"
            ],
            [
             0.2222222222222222,
             "#7201a8"
            ],
            [
             0.3333333333333333,
             "#9c179e"
            ],
            [
             0.4444444444444444,
             "#bd3786"
            ],
            [
             0.5555555555555556,
             "#d8576b"
            ],
            [
             0.6666666666666666,
             "#ed7953"
            ],
            [
             0.7777777777777778,
             "#fb9f3a"
            ],
            [
             0.8888888888888888,
             "#fdca26"
            ],
            [
             1,
             "#f0f921"
            ]
           ],
           "sequentialminus": [
            [
             0,
             "#0d0887"
            ],
            [
             0.1111111111111111,
             "#46039f"
            ],
            [
             0.2222222222222222,
             "#7201a8"
            ],
            [
             0.3333333333333333,
             "#9c179e"
            ],
            [
             0.4444444444444444,
             "#bd3786"
            ],
            [
             0.5555555555555556,
             "#d8576b"
            ],
            [
             0.6666666666666666,
             "#ed7953"
            ],
            [
             0.7777777777777778,
             "#fb9f3a"
            ],
            [
             0.8888888888888888,
             "#fdca26"
            ],
            [
             1,
             "#f0f921"
            ]
           ]
          },
          "colorway": [
           "#636efa",
           "#EF553B",
           "#00cc96",
           "#ab63fa",
           "#FFA15A",
           "#19d3f3",
           "#FF6692",
           "#B6E880",
           "#FF97FF",
           "#FECB52"
          ],
          "font": {
           "color": "#2a3f5f"
          },
          "geo": {
           "bgcolor": "white",
           "lakecolor": "white",
           "landcolor": "#E5ECF6",
           "showlakes": true,
           "showland": true,
           "subunitcolor": "white"
          },
          "hoverlabel": {
           "align": "left"
          },
          "hovermode": "closest",
          "mapbox": {
           "style": "light"
          },
          "paper_bgcolor": "white",
          "plot_bgcolor": "#E5ECF6",
          "polar": {
           "angularaxis": {
            "gridcolor": "white",
            "linecolor": "white",
            "ticks": ""
           },
           "bgcolor": "#E5ECF6",
           "radialaxis": {
            "gridcolor": "white",
            "linecolor": "white",
            "ticks": ""
           }
          },
          "scene": {
           "xaxis": {
            "backgroundcolor": "#E5ECF6",
            "gridcolor": "white",
            "gridwidth": 2,
            "linecolor": "white",
            "showbackground": true,
            "ticks": "",
            "zerolinecolor": "white"
           },
           "yaxis": {
            "backgroundcolor": "#E5ECF6",
            "gridcolor": "white",
            "gridwidth": 2,
            "linecolor": "white",
            "showbackground": true,
            "ticks": "",
            "zerolinecolor": "white"
           },
           "zaxis": {
            "backgroundcolor": "#E5ECF6",
            "gridcolor": "white",
            "gridwidth": 2,
            "linecolor": "white",
            "showbackground": true,
            "ticks": "",
            "zerolinecolor": "white"
           }
          },
          "shapedefaults": {
           "line": {
            "color": "#2a3f5f"
           }
          },
          "ternary": {
           "aaxis": {
            "gridcolor": "white",
            "linecolor": "white",
            "ticks": ""
           },
           "baxis": {
            "gridcolor": "white",
            "linecolor": "white",
            "ticks": ""
           },
           "bgcolor": "#E5ECF6",
           "caxis": {
            "gridcolor": "white",
            "linecolor": "white",
            "ticks": ""
           }
          },
          "title": {
           "x": 0.05
          },
          "xaxis": {
           "automargin": true,
           "gridcolor": "white",
           "linecolor": "white",
           "ticks": "",
           "title": {
            "standoff": 15
           },
           "zerolinecolor": "white",
           "zerolinewidth": 2
          },
          "yaxis": {
           "automargin": true,
           "gridcolor": "white",
           "linecolor": "white",
           "ticks": "",
           "title": {
            "standoff": 15
           },
           "zerolinecolor": "white",
           "zerolinewidth": 2
          }
         }
        },
        "title": {
         "text": "Optimization History Plot"
        },
        "xaxis": {
         "title": {
          "text": "Trial"
         }
        },
        "yaxis": {
         "title": {
          "text": "Objective Value"
         }
        }
       }
      }
     },
     "metadata": {},
     "output_type": "display_data"
    }
   ],
   "source": [
    "fig1 = vis.plot_optimization_history(study)\n",
    "fig1.show()"
   ]
  },
  {
   "cell_type": "code",
   "execution_count": 35,
   "id": "563d9d37",
   "metadata": {},
   "outputs": [
    {
     "data": {
      "application/vnd.plotly.v1+json": {
       "config": {
        "plotlyServerURL": "https://plot.ly"
       },
       "data": [
        {
         "cliponaxis": false,
         "hovertemplate": [
          "h2_size (IntDistribution): 0.015973543828592947<extra></extra>",
          "batch_size (CategoricalDistribution): 0.04054816297382409<extra></extra>",
          "dropout_rate (FloatDistribution): 0.04871217052737167<extra></extra>",
          "h3_size (IntDistribution): 0.08777420542792588<extra></extra>",
          "lr (FloatDistribution): 0.20435694342226604<extra></extra>",
          "h1_size (IntDistribution): 0.6026349738200195<extra></extra>"
         ],
         "name": "Objective Value",
         "orientation": "h",
         "text": [
          "0.02",
          "0.04",
          "0.05",
          "0.09",
          "0.20",
          "0.60"
         ],
         "textposition": "outside",
         "type": "bar",
         "x": [
          0.015973543828592947,
          0.04054816297382409,
          0.04871217052737167,
          0.08777420542792588,
          0.20435694342226604,
          0.6026349738200195
         ],
         "y": [
          "h2_size",
          "batch_size",
          "dropout_rate",
          "h3_size",
          "lr",
          "h1_size"
         ]
        }
       ],
       "layout": {
        "template": {
         "data": {
          "bar": [
           {
            "error_x": {
             "color": "#2a3f5f"
            },
            "error_y": {
             "color": "#2a3f5f"
            },
            "marker": {
             "line": {
              "color": "#E5ECF6",
              "width": 0.5
             },
             "pattern": {
              "fillmode": "overlay",
              "size": 10,
              "solidity": 0.2
             }
            },
            "type": "bar"
           }
          ],
          "barpolar": [
           {
            "marker": {
             "line": {
              "color": "#E5ECF6",
              "width": 0.5
             },
             "pattern": {
              "fillmode": "overlay",
              "size": 10,
              "solidity": 0.2
             }
            },
            "type": "barpolar"
           }
          ],
          "carpet": [
           {
            "aaxis": {
             "endlinecolor": "#2a3f5f",
             "gridcolor": "white",
             "linecolor": "white",
             "minorgridcolor": "white",
             "startlinecolor": "#2a3f5f"
            },
            "baxis": {
             "endlinecolor": "#2a3f5f",
             "gridcolor": "white",
             "linecolor": "white",
             "minorgridcolor": "white",
             "startlinecolor": "#2a3f5f"
            },
            "type": "carpet"
           }
          ],
          "choropleth": [
           {
            "colorbar": {
             "outlinewidth": 0,
             "ticks": ""
            },
            "type": "choropleth"
           }
          ],
          "contour": [
           {
            "colorbar": {
             "outlinewidth": 0,
             "ticks": ""
            },
            "colorscale": [
             [
              0,
              "#0d0887"
             ],
             [
              0.1111111111111111,
              "#46039f"
             ],
             [
              0.2222222222222222,
              "#7201a8"
             ],
             [
              0.3333333333333333,
              "#9c179e"
             ],
             [
              0.4444444444444444,
              "#bd3786"
             ],
             [
              0.5555555555555556,
              "#d8576b"
             ],
             [
              0.6666666666666666,
              "#ed7953"
             ],
             [
              0.7777777777777778,
              "#fb9f3a"
             ],
             [
              0.8888888888888888,
              "#fdca26"
             ],
             [
              1,
              "#f0f921"
             ]
            ],
            "type": "contour"
           }
          ],
          "contourcarpet": [
           {
            "colorbar": {
             "outlinewidth": 0,
             "ticks": ""
            },
            "type": "contourcarpet"
           }
          ],
          "heatmap": [
           {
            "colorbar": {
             "outlinewidth": 0,
             "ticks": ""
            },
            "colorscale": [
             [
              0,
              "#0d0887"
             ],
             [
              0.1111111111111111,
              "#46039f"
             ],
             [
              0.2222222222222222,
              "#7201a8"
             ],
             [
              0.3333333333333333,
              "#9c179e"
             ],
             [
              0.4444444444444444,
              "#bd3786"
             ],
             [
              0.5555555555555556,
              "#d8576b"
             ],
             [
              0.6666666666666666,
              "#ed7953"
             ],
             [
              0.7777777777777778,
              "#fb9f3a"
             ],
             [
              0.8888888888888888,
              "#fdca26"
             ],
             [
              1,
              "#f0f921"
             ]
            ],
            "type": "heatmap"
           }
          ],
          "histogram": [
           {
            "marker": {
             "pattern": {
              "fillmode": "overlay",
              "size": 10,
              "solidity": 0.2
             }
            },
            "type": "histogram"
           }
          ],
          "histogram2d": [
           {
            "colorbar": {
             "outlinewidth": 0,
             "ticks": ""
            },
            "colorscale": [
             [
              0,
              "#0d0887"
             ],
             [
              0.1111111111111111,
              "#46039f"
             ],
             [
              0.2222222222222222,
              "#7201a8"
             ],
             [
              0.3333333333333333,
              "#9c179e"
             ],
             [
              0.4444444444444444,
              "#bd3786"
             ],
             [
              0.5555555555555556,
              "#d8576b"
             ],
             [
              0.6666666666666666,
              "#ed7953"
             ],
             [
              0.7777777777777778,
              "#fb9f3a"
             ],
             [
              0.8888888888888888,
              "#fdca26"
             ],
             [
              1,
              "#f0f921"
             ]
            ],
            "type": "histogram2d"
           }
          ],
          "histogram2dcontour": [
           {
            "colorbar": {
             "outlinewidth": 0,
             "ticks": ""
            },
            "colorscale": [
             [
              0,
              "#0d0887"
             ],
             [
              0.1111111111111111,
              "#46039f"
             ],
             [
              0.2222222222222222,
              "#7201a8"
             ],
             [
              0.3333333333333333,
              "#9c179e"
             ],
             [
              0.4444444444444444,
              "#bd3786"
             ],
             [
              0.5555555555555556,
              "#d8576b"
             ],
             [
              0.6666666666666666,
              "#ed7953"
             ],
             [
              0.7777777777777778,
              "#fb9f3a"
             ],
             [
              0.8888888888888888,
              "#fdca26"
             ],
             [
              1,
              "#f0f921"
             ]
            ],
            "type": "histogram2dcontour"
           }
          ],
          "mesh3d": [
           {
            "colorbar": {
             "outlinewidth": 0,
             "ticks": ""
            },
            "type": "mesh3d"
           }
          ],
          "parcoords": [
           {
            "line": {
             "colorbar": {
              "outlinewidth": 0,
              "ticks": ""
             }
            },
            "type": "parcoords"
           }
          ],
          "pie": [
           {
            "automargin": true,
            "type": "pie"
           }
          ],
          "scatter": [
           {
            "fillpattern": {
             "fillmode": "overlay",
             "size": 10,
             "solidity": 0.2
            },
            "type": "scatter"
           }
          ],
          "scatter3d": [
           {
            "line": {
             "colorbar": {
              "outlinewidth": 0,
              "ticks": ""
             }
            },
            "marker": {
             "colorbar": {
              "outlinewidth": 0,
              "ticks": ""
             }
            },
            "type": "scatter3d"
           }
          ],
          "scattercarpet": [
           {
            "marker": {
             "colorbar": {
              "outlinewidth": 0,
              "ticks": ""
             }
            },
            "type": "scattercarpet"
           }
          ],
          "scattergeo": [
           {
            "marker": {
             "colorbar": {
              "outlinewidth": 0,
              "ticks": ""
             }
            },
            "type": "scattergeo"
           }
          ],
          "scattergl": [
           {
            "marker": {
             "colorbar": {
              "outlinewidth": 0,
              "ticks": ""
             }
            },
            "type": "scattergl"
           }
          ],
          "scattermap": [
           {
            "marker": {
             "colorbar": {
              "outlinewidth": 0,
              "ticks": ""
             }
            },
            "type": "scattermap"
           }
          ],
          "scattermapbox": [
           {
            "marker": {
             "colorbar": {
              "outlinewidth": 0,
              "ticks": ""
             }
            },
            "type": "scattermapbox"
           }
          ],
          "scatterpolar": [
           {
            "marker": {
             "colorbar": {
              "outlinewidth": 0,
              "ticks": ""
             }
            },
            "type": "scatterpolar"
           }
          ],
          "scatterpolargl": [
           {
            "marker": {
             "colorbar": {
              "outlinewidth": 0,
              "ticks": ""
             }
            },
            "type": "scatterpolargl"
           }
          ],
          "scatterternary": [
           {
            "marker": {
             "colorbar": {
              "outlinewidth": 0,
              "ticks": ""
             }
            },
            "type": "scatterternary"
           }
          ],
          "surface": [
           {
            "colorbar": {
             "outlinewidth": 0,
             "ticks": ""
            },
            "colorscale": [
             [
              0,
              "#0d0887"
             ],
             [
              0.1111111111111111,
              "#46039f"
             ],
             [
              0.2222222222222222,
              "#7201a8"
             ],
             [
              0.3333333333333333,
              "#9c179e"
             ],
             [
              0.4444444444444444,
              "#bd3786"
             ],
             [
              0.5555555555555556,
              "#d8576b"
             ],
             [
              0.6666666666666666,
              "#ed7953"
             ],
             [
              0.7777777777777778,
              "#fb9f3a"
             ],
             [
              0.8888888888888888,
              "#fdca26"
             ],
             [
              1,
              "#f0f921"
             ]
            ],
            "type": "surface"
           }
          ],
          "table": [
           {
            "cells": {
             "fill": {
              "color": "#EBF0F8"
             },
             "line": {
              "color": "white"
             }
            },
            "header": {
             "fill": {
              "color": "#C8D4E3"
             },
             "line": {
              "color": "white"
             }
            },
            "type": "table"
           }
          ]
         },
         "layout": {
          "annotationdefaults": {
           "arrowcolor": "#2a3f5f",
           "arrowhead": 0,
           "arrowwidth": 1
          },
          "autotypenumbers": "strict",
          "coloraxis": {
           "colorbar": {
            "outlinewidth": 0,
            "ticks": ""
           }
          },
          "colorscale": {
           "diverging": [
            [
             0,
             "#8e0152"
            ],
            [
             0.1,
             "#c51b7d"
            ],
            [
             0.2,
             "#de77ae"
            ],
            [
             0.3,
             "#f1b6da"
            ],
            [
             0.4,
             "#fde0ef"
            ],
            [
             0.5,
             "#f7f7f7"
            ],
            [
             0.6,
             "#e6f5d0"
            ],
            [
             0.7,
             "#b8e186"
            ],
            [
             0.8,
             "#7fbc41"
            ],
            [
             0.9,
             "#4d9221"
            ],
            [
             1,
             "#276419"
            ]
           ],
           "sequential": [
            [
             0,
             "#0d0887"
            ],
            [
             0.1111111111111111,
             "#46039f"
            ],
            [
             0.2222222222222222,
             "#7201a8"
            ],
            [
             0.3333333333333333,
             "#9c179e"
            ],
            [
             0.4444444444444444,
             "#bd3786"
            ],
            [
             0.5555555555555556,
             "#d8576b"
            ],
            [
             0.6666666666666666,
             "#ed7953"
            ],
            [
             0.7777777777777778,
             "#fb9f3a"
            ],
            [
             0.8888888888888888,
             "#fdca26"
            ],
            [
             1,
             "#f0f921"
            ]
           ],
           "sequentialminus": [
            [
             0,
             "#0d0887"
            ],
            [
             0.1111111111111111,
             "#46039f"
            ],
            [
             0.2222222222222222,
             "#7201a8"
            ],
            [
             0.3333333333333333,
             "#9c179e"
            ],
            [
             0.4444444444444444,
             "#bd3786"
            ],
            [
             0.5555555555555556,
             "#d8576b"
            ],
            [
             0.6666666666666666,
             "#ed7953"
            ],
            [
             0.7777777777777778,
             "#fb9f3a"
            ],
            [
             0.8888888888888888,
             "#fdca26"
            ],
            [
             1,
             "#f0f921"
            ]
           ]
          },
          "colorway": [
           "#636efa",
           "#EF553B",
           "#00cc96",
           "#ab63fa",
           "#FFA15A",
           "#19d3f3",
           "#FF6692",
           "#B6E880",
           "#FF97FF",
           "#FECB52"
          ],
          "font": {
           "color": "#2a3f5f"
          },
          "geo": {
           "bgcolor": "white",
           "lakecolor": "white",
           "landcolor": "#E5ECF6",
           "showlakes": true,
           "showland": true,
           "subunitcolor": "white"
          },
          "hoverlabel": {
           "align": "left"
          },
          "hovermode": "closest",
          "mapbox": {
           "style": "light"
          },
          "paper_bgcolor": "white",
          "plot_bgcolor": "#E5ECF6",
          "polar": {
           "angularaxis": {
            "gridcolor": "white",
            "linecolor": "white",
            "ticks": ""
           },
           "bgcolor": "#E5ECF6",
           "radialaxis": {
            "gridcolor": "white",
            "linecolor": "white",
            "ticks": ""
           }
          },
          "scene": {
           "xaxis": {
            "backgroundcolor": "#E5ECF6",
            "gridcolor": "white",
            "gridwidth": 2,
            "linecolor": "white",
            "showbackground": true,
            "ticks": "",
            "zerolinecolor": "white"
           },
           "yaxis": {
            "backgroundcolor": "#E5ECF6",
            "gridcolor": "white",
            "gridwidth": 2,
            "linecolor": "white",
            "showbackground": true,
            "ticks": "",
            "zerolinecolor": "white"
           },
           "zaxis": {
            "backgroundcolor": "#E5ECF6",
            "gridcolor": "white",
            "gridwidth": 2,
            "linecolor": "white",
            "showbackground": true,
            "ticks": "",
            "zerolinecolor": "white"
           }
          },
          "shapedefaults": {
           "line": {
            "color": "#2a3f5f"
           }
          },
          "ternary": {
           "aaxis": {
            "gridcolor": "white",
            "linecolor": "white",
            "ticks": ""
           },
           "baxis": {
            "gridcolor": "white",
            "linecolor": "white",
            "ticks": ""
           },
           "bgcolor": "#E5ECF6",
           "caxis": {
            "gridcolor": "white",
            "linecolor": "white",
            "ticks": ""
           }
          },
          "title": {
           "x": 0.05
          },
          "xaxis": {
           "automargin": true,
           "gridcolor": "white",
           "linecolor": "white",
           "ticks": "",
           "title": {
            "standoff": 15
           },
           "zerolinecolor": "white",
           "zerolinewidth": 2
          },
          "yaxis": {
           "automargin": true,
           "gridcolor": "white",
           "linecolor": "white",
           "ticks": "",
           "title": {
            "standoff": 15
           },
           "zerolinecolor": "white",
           "zerolinewidth": 2
          }
         }
        },
        "title": {
         "text": "Hyperparameter Importances"
        },
        "xaxis": {
         "title": {
          "text": "Hyperparameter Importance"
         }
        },
        "yaxis": {
         "title": {
          "text": "Hyperparameter"
         }
        }
       }
      }
     },
     "metadata": {},
     "output_type": "display_data"
    }
   ],
   "source": [
    "fig2 = vis.plot_param_importances(study)\n",
    "fig2.show()"
   ]
  },
  {
   "cell_type": "code",
   "execution_count": 36,
   "id": "ccada7c1",
   "metadata": {},
   "outputs": [
    {
     "data": {
      "application/vnd.plotly.v1+json": {
       "config": {
        "plotlyServerURL": "https://plot.ly"
       },
       "data": [
        {
         "dimensions": [
          {
           "label": "Objective Value",
           "range": [
            0.9665714285714285,
            0.9804285714285714
           ],
           "values": [
            0.975,
            0.979,
            0.9777142857142858,
            0.9665714285714285,
            0.9788571428571429,
            0.9804285714285714,
            0.9795714285714285,
            0.979,
            0.9794285714285714,
            0.9792857142857143,
            0.9787142857142858,
            0.9782857142857143,
            0.9721428571428572,
            0.9765714285714285,
            0.9775714285714285
           ]
          },
          {
           "label": "batch_size",
           "range": [
            0,
            2
           ],
           "ticktext": [
            "32",
            "64",
            "128"
           ],
           "tickvals": [
            0,
            1,
            2
           ],
           "values": [
            0,
            0,
            1,
            1,
            1,
            1,
            1,
            1,
            1,
            1,
            1,
            2,
            2,
            2,
            2
           ]
          },
          {
           "label": "dropout_rate",
           "range": [
            0.1624074561769746,
            0.4951293378618701
           ],
           "values": [
            0.4329770563201687,
            0.31126636442225036,
            0.33696582754481696,
            0.2218455076693483,
            0.32421736795107264,
            0.37529180478007984,
            0.4951293378618701,
            0.4589817531738523,
            0.37303466582934336,
            0.48387589074671417,
            0.47625777210276027,
            0.1624074561769746,
            0.34474115788895177,
            0.4757995766256756,
            0.2769377285266796
           ]
          },
          {
           "label": "h1_size",
           "range": [
            46,
            255
           ],
           "values": [
            167,
            204,
            134,
            46,
            116,
            196,
            246,
            255,
            220,
            234,
            230,
            116,
            100,
            155,
            195
           ]
          },
          {
           "label": "h2_size",
           "range": [
            49,
            128
           ],
           "values": [
            100,
            90,
            108,
            124,
            127,
            99,
            69,
            68,
            90,
            104,
            102,
            124,
            82,
            49,
            128
           ]
          },
          {
           "label": "h3_size",
           "range": [
            17,
            63
           ],
           "values": [
            17,
            58,
            25,
            63,
            31,
            57,
            31,
            35,
            27,
            39,
            39,
            51,
            37,
            63,
            32
           ]
          },
          {
           "label": "lr",
           "range": [
            -3.417541719603916,
            -2.060180295676011
           ],
           "ticktext": [
            "0.000382",
            "0.001",
            "0.00871"
           ],
           "tickvals": [
            -3.417541719603916,
            -3,
            -2.060180295676011
           ],
           "values": [
            -2.060180295676011,
            -2.794578960542462,
            -2.9715311231727766,
            -2.3832053037670775,
            -2.8965697983773624,
            -3.229437135127801,
            -3.1488210712723417,
            -3.1478794021527676,
            -3.1345087776390166,
            -2.970471205818698,
            -3.3119676694497686,
            -2.8026830316059264,
            -3.417541719603916,
            -2.449734353277771,
            -2.871020217295949
           ]
          }
         ],
         "labelangle": 30,
         "labelside": "bottom",
         "line": {
          "color": [
           0.975,
           0.979,
           0.9777142857142858,
           0.9665714285714285,
           0.9788571428571429,
           0.9804285714285714,
           0.9795714285714285,
           0.979,
           0.9794285714285714,
           0.9792857142857143,
           0.9787142857142858,
           0.9782857142857143,
           0.9721428571428572,
           0.9765714285714285,
           0.9775714285714285
          ],
          "colorbar": {
           "title": {
            "text": "Objective Value"
           }
          },
          "colorscale": [
           [
            0,
            "rgb(247,251,255)"
           ],
           [
            0.125,
            "rgb(222,235,247)"
           ],
           [
            0.25,
            "rgb(198,219,239)"
           ],
           [
            0.375,
            "rgb(158,202,225)"
           ],
           [
            0.5,
            "rgb(107,174,214)"
           ],
           [
            0.625,
            "rgb(66,146,198)"
           ],
           [
            0.75,
            "rgb(33,113,181)"
           ],
           [
            0.875,
            "rgb(8,81,156)"
           ],
           [
            1,
            "rgb(8,48,107)"
           ]
          ],
          "reversescale": false,
          "showscale": true
         },
         "type": "parcoords"
        }
       ],
       "layout": {
        "template": {
         "data": {
          "bar": [
           {
            "error_x": {
             "color": "#2a3f5f"
            },
            "error_y": {
             "color": "#2a3f5f"
            },
            "marker": {
             "line": {
              "color": "#E5ECF6",
              "width": 0.5
             },
             "pattern": {
              "fillmode": "overlay",
              "size": 10,
              "solidity": 0.2
             }
            },
            "type": "bar"
           }
          ],
          "barpolar": [
           {
            "marker": {
             "line": {
              "color": "#E5ECF6",
              "width": 0.5
             },
             "pattern": {
              "fillmode": "overlay",
              "size": 10,
              "solidity": 0.2
             }
            },
            "type": "barpolar"
           }
          ],
          "carpet": [
           {
            "aaxis": {
             "endlinecolor": "#2a3f5f",
             "gridcolor": "white",
             "linecolor": "white",
             "minorgridcolor": "white",
             "startlinecolor": "#2a3f5f"
            },
            "baxis": {
             "endlinecolor": "#2a3f5f",
             "gridcolor": "white",
             "linecolor": "white",
             "minorgridcolor": "white",
             "startlinecolor": "#2a3f5f"
            },
            "type": "carpet"
           }
          ],
          "choropleth": [
           {
            "colorbar": {
             "outlinewidth": 0,
             "ticks": ""
            },
            "type": "choropleth"
           }
          ],
          "contour": [
           {
            "colorbar": {
             "outlinewidth": 0,
             "ticks": ""
            },
            "colorscale": [
             [
              0,
              "#0d0887"
             ],
             [
              0.1111111111111111,
              "#46039f"
             ],
             [
              0.2222222222222222,
              "#7201a8"
             ],
             [
              0.3333333333333333,
              "#9c179e"
             ],
             [
              0.4444444444444444,
              "#bd3786"
             ],
             [
              0.5555555555555556,
              "#d8576b"
             ],
             [
              0.6666666666666666,
              "#ed7953"
             ],
             [
              0.7777777777777778,
              "#fb9f3a"
             ],
             [
              0.8888888888888888,
              "#fdca26"
             ],
             [
              1,
              "#f0f921"
             ]
            ],
            "type": "contour"
           }
          ],
          "contourcarpet": [
           {
            "colorbar": {
             "outlinewidth": 0,
             "ticks": ""
            },
            "type": "contourcarpet"
           }
          ],
          "heatmap": [
           {
            "colorbar": {
             "outlinewidth": 0,
             "ticks": ""
            },
            "colorscale": [
             [
              0,
              "#0d0887"
             ],
             [
              0.1111111111111111,
              "#46039f"
             ],
             [
              0.2222222222222222,
              "#7201a8"
             ],
             [
              0.3333333333333333,
              "#9c179e"
             ],
             [
              0.4444444444444444,
              "#bd3786"
             ],
             [
              0.5555555555555556,
              "#d8576b"
             ],
             [
              0.6666666666666666,
              "#ed7953"
             ],
             [
              0.7777777777777778,
              "#fb9f3a"
             ],
             [
              0.8888888888888888,
              "#fdca26"
             ],
             [
              1,
              "#f0f921"
             ]
            ],
            "type": "heatmap"
           }
          ],
          "histogram": [
           {
            "marker": {
             "pattern": {
              "fillmode": "overlay",
              "size": 10,
              "solidity": 0.2
             }
            },
            "type": "histogram"
           }
          ],
          "histogram2d": [
           {
            "colorbar": {
             "outlinewidth": 0,
             "ticks": ""
            },
            "colorscale": [
             [
              0,
              "#0d0887"
             ],
             [
              0.1111111111111111,
              "#46039f"
             ],
             [
              0.2222222222222222,
              "#7201a8"
             ],
             [
              0.3333333333333333,
              "#9c179e"
             ],
             [
              0.4444444444444444,
              "#bd3786"
             ],
             [
              0.5555555555555556,
              "#d8576b"
             ],
             [
              0.6666666666666666,
              "#ed7953"
             ],
             [
              0.7777777777777778,
              "#fb9f3a"
             ],
             [
              0.8888888888888888,
              "#fdca26"
             ],
             [
              1,
              "#f0f921"
             ]
            ],
            "type": "histogram2d"
           }
          ],
          "histogram2dcontour": [
           {
            "colorbar": {
             "outlinewidth": 0,
             "ticks": ""
            },
            "colorscale": [
             [
              0,
              "#0d0887"
             ],
             [
              0.1111111111111111,
              "#46039f"
             ],
             [
              0.2222222222222222,
              "#7201a8"
             ],
             [
              0.3333333333333333,
              "#9c179e"
             ],
             [
              0.4444444444444444,
              "#bd3786"
             ],
             [
              0.5555555555555556,
              "#d8576b"
             ],
             [
              0.6666666666666666,
              "#ed7953"
             ],
             [
              0.7777777777777778,
              "#fb9f3a"
             ],
             [
              0.8888888888888888,
              "#fdca26"
             ],
             [
              1,
              "#f0f921"
             ]
            ],
            "type": "histogram2dcontour"
           }
          ],
          "mesh3d": [
           {
            "colorbar": {
             "outlinewidth": 0,
             "ticks": ""
            },
            "type": "mesh3d"
           }
          ],
          "parcoords": [
           {
            "line": {
             "colorbar": {
              "outlinewidth": 0,
              "ticks": ""
             }
            },
            "type": "parcoords"
           }
          ],
          "pie": [
           {
            "automargin": true,
            "type": "pie"
           }
          ],
          "scatter": [
           {
            "fillpattern": {
             "fillmode": "overlay",
             "size": 10,
             "solidity": 0.2
            },
            "type": "scatter"
           }
          ],
          "scatter3d": [
           {
            "line": {
             "colorbar": {
              "outlinewidth": 0,
              "ticks": ""
             }
            },
            "marker": {
             "colorbar": {
              "outlinewidth": 0,
              "ticks": ""
             }
            },
            "type": "scatter3d"
           }
          ],
          "scattercarpet": [
           {
            "marker": {
             "colorbar": {
              "outlinewidth": 0,
              "ticks": ""
             }
            },
            "type": "scattercarpet"
           }
          ],
          "scattergeo": [
           {
            "marker": {
             "colorbar": {
              "outlinewidth": 0,
              "ticks": ""
             }
            },
            "type": "scattergeo"
           }
          ],
          "scattergl": [
           {
            "marker": {
             "colorbar": {
              "outlinewidth": 0,
              "ticks": ""
             }
            },
            "type": "scattergl"
           }
          ],
          "scattermap": [
           {
            "marker": {
             "colorbar": {
              "outlinewidth": 0,
              "ticks": ""
             }
            },
            "type": "scattermap"
           }
          ],
          "scattermapbox": [
           {
            "marker": {
             "colorbar": {
              "outlinewidth": 0,
              "ticks": ""
             }
            },
            "type": "scattermapbox"
           }
          ],
          "scatterpolar": [
           {
            "marker": {
             "colorbar": {
              "outlinewidth": 0,
              "ticks": ""
             }
            },
            "type": "scatterpolar"
           }
          ],
          "scatterpolargl": [
           {
            "marker": {
             "colorbar": {
              "outlinewidth": 0,
              "ticks": ""
             }
            },
            "type": "scatterpolargl"
           }
          ],
          "scatterternary": [
           {
            "marker": {
             "colorbar": {
              "outlinewidth": 0,
              "ticks": ""
             }
            },
            "type": "scatterternary"
           }
          ],
          "surface": [
           {
            "colorbar": {
             "outlinewidth": 0,
             "ticks": ""
            },
            "colorscale": [
             [
              0,
              "#0d0887"
             ],
             [
              0.1111111111111111,
              "#46039f"
             ],
             [
              0.2222222222222222,
              "#7201a8"
             ],
             [
              0.3333333333333333,
              "#9c179e"
             ],
             [
              0.4444444444444444,
              "#bd3786"
             ],
             [
              0.5555555555555556,
              "#d8576b"
             ],
             [
              0.6666666666666666,
              "#ed7953"
             ],
             [
              0.7777777777777778,
              "#fb9f3a"
             ],
             [
              0.8888888888888888,
              "#fdca26"
             ],
             [
              1,
              "#f0f921"
             ]
            ],
            "type": "surface"
           }
          ],
          "table": [
           {
            "cells": {
             "fill": {
              "color": "#EBF0F8"
             },
             "line": {
              "color": "white"
             }
            },
            "header": {
             "fill": {
              "color": "#C8D4E3"
             },
             "line": {
              "color": "white"
             }
            },
            "type": "table"
           }
          ]
         },
         "layout": {
          "annotationdefaults": {
           "arrowcolor": "#2a3f5f",
           "arrowhead": 0,
           "arrowwidth": 1
          },
          "autotypenumbers": "strict",
          "coloraxis": {
           "colorbar": {
            "outlinewidth": 0,
            "ticks": ""
           }
          },
          "colorscale": {
           "diverging": [
            [
             0,
             "#8e0152"
            ],
            [
             0.1,
             "#c51b7d"
            ],
            [
             0.2,
             "#de77ae"
            ],
            [
             0.3,
             "#f1b6da"
            ],
            [
             0.4,
             "#fde0ef"
            ],
            [
             0.5,
             "#f7f7f7"
            ],
            [
             0.6,
             "#e6f5d0"
            ],
            [
             0.7,
             "#b8e186"
            ],
            [
             0.8,
             "#7fbc41"
            ],
            [
             0.9,
             "#4d9221"
            ],
            [
             1,
             "#276419"
            ]
           ],
           "sequential": [
            [
             0,
             "#0d0887"
            ],
            [
             0.1111111111111111,
             "#46039f"
            ],
            [
             0.2222222222222222,
             "#7201a8"
            ],
            [
             0.3333333333333333,
             "#9c179e"
            ],
            [
             0.4444444444444444,
             "#bd3786"
            ],
            [
             0.5555555555555556,
             "#d8576b"
            ],
            [
             0.6666666666666666,
             "#ed7953"
            ],
            [
             0.7777777777777778,
             "#fb9f3a"
            ],
            [
             0.8888888888888888,
             "#fdca26"
            ],
            [
             1,
             "#f0f921"
            ]
           ],
           "sequentialminus": [
            [
             0,
             "#0d0887"
            ],
            [
             0.1111111111111111,
             "#46039f"
            ],
            [
             0.2222222222222222,
             "#7201a8"
            ],
            [
             0.3333333333333333,
             "#9c179e"
            ],
            [
             0.4444444444444444,
             "#bd3786"
            ],
            [
             0.5555555555555556,
             "#d8576b"
            ],
            [
             0.6666666666666666,
             "#ed7953"
            ],
            [
             0.7777777777777778,
             "#fb9f3a"
            ],
            [
             0.8888888888888888,
             "#fdca26"
            ],
            [
             1,
             "#f0f921"
            ]
           ]
          },
          "colorway": [
           "#636efa",
           "#EF553B",
           "#00cc96",
           "#ab63fa",
           "#FFA15A",
           "#19d3f3",
           "#FF6692",
           "#B6E880",
           "#FF97FF",
           "#FECB52"
          ],
          "font": {
           "color": "#2a3f5f"
          },
          "geo": {
           "bgcolor": "white",
           "lakecolor": "white",
           "landcolor": "#E5ECF6",
           "showlakes": true,
           "showland": true,
           "subunitcolor": "white"
          },
          "hoverlabel": {
           "align": "left"
          },
          "hovermode": "closest",
          "mapbox": {
           "style": "light"
          },
          "paper_bgcolor": "white",
          "plot_bgcolor": "#E5ECF6",
          "polar": {
           "angularaxis": {
            "gridcolor": "white",
            "linecolor": "white",
            "ticks": ""
           },
           "bgcolor": "#E5ECF6",
           "radialaxis": {
            "gridcolor": "white",
            "linecolor": "white",
            "ticks": ""
           }
          },
          "scene": {
           "xaxis": {
            "backgroundcolor": "#E5ECF6",
            "gridcolor": "white",
            "gridwidth": 2,
            "linecolor": "white",
            "showbackground": true,
            "ticks": "",
            "zerolinecolor": "white"
           },
           "yaxis": {
            "backgroundcolor": "#E5ECF6",
            "gridcolor": "white",
            "gridwidth": 2,
            "linecolor": "white",
            "showbackground": true,
            "ticks": "",
            "zerolinecolor": "white"
           },
           "zaxis": {
            "backgroundcolor": "#E5ECF6",
            "gridcolor": "white",
            "gridwidth": 2,
            "linecolor": "white",
            "showbackground": true,
            "ticks": "",
            "zerolinecolor": "white"
           }
          },
          "shapedefaults": {
           "line": {
            "color": "#2a3f5f"
           }
          },
          "ternary": {
           "aaxis": {
            "gridcolor": "white",
            "linecolor": "white",
            "ticks": ""
           },
           "baxis": {
            "gridcolor": "white",
            "linecolor": "white",
            "ticks": ""
           },
           "bgcolor": "#E5ECF6",
           "caxis": {
            "gridcolor": "white",
            "linecolor": "white",
            "ticks": ""
           }
          },
          "title": {
           "x": 0.05
          },
          "xaxis": {
           "automargin": true,
           "gridcolor": "white",
           "linecolor": "white",
           "ticks": "",
           "title": {
            "standoff": 15
           },
           "zerolinecolor": "white",
           "zerolinewidth": 2
          },
          "yaxis": {
           "automargin": true,
           "gridcolor": "white",
           "linecolor": "white",
           "ticks": "",
           "title": {
            "standoff": 15
           },
           "zerolinecolor": "white",
           "zerolinewidth": 2
          }
         }
        },
        "title": {
         "text": "Parallel Coordinate Plot"
        }
       }
      }
     },
     "metadata": {},
     "output_type": "display_data"
    }
   ],
   "source": [
    "fig3 = vis.plot_parallel_coordinate(study)\n",
    "fig3.show()"
   ]
  },
  {
   "cell_type": "code",
   "execution_count": null,
   "id": "8148a692",
   "metadata": {},
   "outputs": [],
   "source": []
  },
  {
   "cell_type": "code",
   "execution_count": null,
   "id": "06f8f169",
   "metadata": {},
   "outputs": [],
   "source": []
  }
 ],
 "metadata": {
  "kernelspec": {
   "display_name": "Python 3",
   "language": "python",
   "name": "python3"
  },
  "language_info": {
   "codemirror_mode": {
    "name": "ipython",
    "version": 3
   },
   "file_extension": ".py",
   "mimetype": "text/x-python",
   "name": "python",
   "nbconvert_exporter": "python",
   "pygments_lexer": "ipython3",
   "version": "3.13.3"
  }
 },
 "nbformat": 4,
 "nbformat_minor": 5
}
